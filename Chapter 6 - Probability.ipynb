{
    "cells": [
        {
            "metadata": {
                "collapsed": true
            },
            "cell_type": "code",
            "source": "",
            "execution_count": null,
            "outputs": []
        },
        {
            "metadata": {},
            "cell_type": "code",
            "source": "import enum, random\n\n# An Enum is a typed set of enumerated values. We can use them\n# to make our code more descriptive and readable.\nclass Kid(enum.Enum):\n    BOY = 0\n    GIRL = 1\n\ndef random_kid() -> Kid:\n    return random.choice([Kid.BOY, Kid.GIRL])\n\nboth_girls = 0\nolder_girl = 0\neither_girl = 0\n\nrandom.seed(0)\n\nfor _ in range(10000):\n    younger = random_kid()\n    older = random_kid()\n    if older == Kid.GIRL:\n        older_girl += 1\n    if older == Kid.GIRL and younger == Kid.GIRL:\n        both_girls += 1\n    if older == Kid.GIRL or younger == Kid.GIRL:\n        either_girl += 1\n\nprint(\"P(both | older):\", both_girls / older_girl)     # 0.514 ~ 1/2\nprint(\"P(both | either): \", both_girls / either_girl)  # 0.342 ~ 1/3",
            "execution_count": null,
            "outputs": []
        },
        {
            "metadata": {},
            "cell_type": "markdown",
            "source": "## Bayes\u2019s Theorem"
        },
        {
            "metadata": {},
            "cell_type": "code",
            "source": "def uniform_cdf(x: float) -> float:\n    \"\"\"Returns the probability that a uniform random variable is <= x\"\"\"\n    if x < 0:   return 0    # uniform random is never less than 0\n    elif x < 1: return x    # e.g. P(X <= 0.4) = 0.4\n    else:       return 1    # uniform random is always less than 1",
            "execution_count": null,
            "outputs": []
        },
        {
            "metadata": {},
            "cell_type": "markdown",
            "source": "![image.png](attachment:image.png)",
            "attachments": {
                "image.png": {
                    "image/png": "[encoded data removed]"
                }
            }
        },
        {
            "metadata": {},
            "cell_type": "code",
            "source": "import math\nSQRT_TWO_PI = math.sqrt(2 * math.pi)\n\ndef normal_pdf(x: float, mu: float = 0, sigma: float = 1) -> float:\n    return (math.exp(-(x-mu) ** 2 / 2 / sigma ** 2) / (SQRT_TWO_PI * sigma))",
            "execution_count": null,
            "outputs": []
        },
        {
            "metadata": {},
            "cell_type": "code",
            "source": "",
            "execution_count": null,
            "outputs": []
        },
        {
            "metadata": {},
            "cell_type": "code",
            "source": "import matplotlib.pyplot as plt\nxs = [x / 10.0 for x in range(-50, 50)]\nplt.plot(xs,[normal_pdf(x,sigma=1) for x in xs],'-',label='mu=0,sigma=1')\nplt.plot(xs,[normal_pdf(x,sigma=2) for x in xs],'--',label='mu=0,sigma=2')\nplt.plot(xs,[normal_pdf(x,sigma=0.5) for x in xs],':',label='mu=0,sigma=0.5')\nplt.plot(xs,[normal_pdf(x,mu=-1)   for x in xs],'-.',label='mu=-1,sigma=1')\nplt.legend()\nplt.title(\"Various Normal pdfs\")\nplt.show()",
            "execution_count": null,
            "outputs": []
        },
        {
            "metadata": {},
            "cell_type": "code",
            "source": "",
            "execution_count": null,
            "outputs": []
        },
        {
            "metadata": {},
            "cell_type": "code",
            "source": "def normal_cdf(x: float, mu: float = 0, sigma: float = 1) -> float:\n    return (1 + math.erf((x - mu) / math.sqrt(2) / sigma)) / 2",
            "execution_count": null,
            "outputs": []
        },
        {
            "metadata": {},
            "cell_type": "code",
            "source": "",
            "execution_count": null,
            "outputs": []
        },
        {
            "metadata": {},
            "cell_type": "code",
            "source": "xs = [x / 10.0 for x in range(-50, 50)]\nplt.plot(xs,[normal_cdf(x,sigma=1) for x in xs],'-',label='mu=0,sigma=1')\nplt.plot(xs,[normal_cdf(x,sigma=2) for x in xs],'--',label='mu=0,sigma=2')\nplt.plot(xs,[normal_cdf(x,sigma=0.5) for x in xs],':',label='mu=0,sigma=0.5')\nplt.plot(xs,[normal_cdf(x,mu=-1) for x in xs],'-.',label='mu=-1,sigma=1')\nplt.legend(loc=4) # bottom right\nplt.title(\"Various Normal cdfs\")\nplt.show()",
            "execution_count": null,
            "outputs": []
        },
        {
            "metadata": {},
            "cell_type": "markdown",
            "source": "binary search"
        },
        {
            "metadata": {},
            "cell_type": "code",
            "source": "def inverse_normal_cdf(p: float,\n                       mu: float = 0,\n                       sigma: float = 1,\n                       tolerance: float = 0.00001) -> float:\n    \"\"\"Find approximate inverse using binary search\"\"\"\n\n    # if not standard, compute standard and rescale\n    if mu != 0 or sigma != 1:\n        return mu + sigma * inverse_normal_cdf(p, tolerance=tolerance)\n\n    low_z = -10.0                      # normal_cdf(-10) is (very close to) 0\n    hi_z  =  10.0                      # normal_cdf(10)  is (very close to) 1\n    while hi_z - low_z > tolerance:\n        mid_z = (low_z + hi_z) / 2     # Consider the midpoint\n        mid_p = normal_cdf(mid_z)      # and the CDF's value there\n        if mid_p < p:\n            low_z = mid_z              # Midpoint too low, search above it\n        else:\n            hi_z = mid_z               # Midpoint too high, search below it\n\n    return mid_z",
            "execution_count": null,
            "outputs": []
        },
        {
            "metadata": {},
            "cell_type": "code",
            "source": "",
            "execution_count": null,
            "outputs": []
        },
        {
            "metadata": {},
            "cell_type": "code",
            "source": "def bernoulli_trial(p: float) -> int:\n    \"\"\"Returns 1 with probability p and 0 with probability 1-p\"\"\"\n    return 1 if random.random() < p else 0\n\ndef binomial(n: int, p: float) -> int:\n    \"\"\"Returns the sum of n bernoulli(p) trials\"\"\"\n    return sum(bernoulli_trial(p) for _ in range(n))",
            "execution_count": null,
            "outputs": []
        },
        {
            "metadata": {},
            "cell_type": "code",
            "source": "",
            "execution_count": null,
            "outputs": []
        },
        {
            "metadata": {},
            "cell_type": "code",
            "source": "from collections import Counter\n\ndef binomial_histogram(p: float, n: int, num_points: int) -> None:\n    \"\"\"Picks points from a Binomial(n, p) and plots their histogram\"\"\"\n    data = [binomial(n, p) for _ in range(num_points)]\n\n    # use a bar chart to show the actual binomial samples\n    histogram = Counter(data)\n    plt.bar([x - 0.4 for x in histogram.keys()],\n            [v / num_points for v in histogram.values()],\n            0.8,\n            color='0.75')\n\n    mu = p * n\n    sigma = math.sqrt(n * p * (1 - p))\n\n    # use a line chart to show the normal approximation\n    xs = range(min(data), max(data) + 1)\n    ys = [normal_cdf(i + 0.5, mu, sigma) - normal_cdf(i - 0.5, mu, sigma)\n          for i in xs]\n    plt.plot(xs,ys)\n    plt.title(\"Binomial Distribution vs. Normal Approximation\")\n    plt.show()",
            "execution_count": null,
            "outputs": []
        },
        {
            "metadata": {},
            "cell_type": "code",
            "source": "",
            "execution_count": null,
            "outputs": []
        },
        {
            "metadata": {},
            "cell_type": "markdown",
            "source": "- http://www.dartmouth.edu/~chance/teaching_aids/books_articles/probability_book/book.html\n- https://docs.scipy.org/doc/scipy/reference/stats.html"
        },
        {
            "metadata": {},
            "cell_type": "code",
            "source": "",
            "execution_count": null,
            "outputs": []
        },
        {
            "metadata": {},
            "cell_type": "code",
            "source": "",
            "execution_count": null,
            "outputs": []
        },
        {
            "metadata": {},
            "cell_type": "code",
            "source": "",
            "execution_count": null,
            "outputs": []
        }
    ],
    "metadata": {
        "kernelspec": {
            "name": "python3",
            "display_name": "Python 3.6",
            "language": "python"
        },
        "language_info": {
            "name": "python",
            "version": "3.6.9",
            "mimetype": "text/x-python",
            "codemirror_mode": {
                "name": "ipython",
                "version": 3
            },
            "pygments_lexer": "ipython3",
            "nbconvert_exporter": "python",
            "file_extension": ".py"
        }
    },
    "nbformat": 4,
    "nbformat_minor": 1
}