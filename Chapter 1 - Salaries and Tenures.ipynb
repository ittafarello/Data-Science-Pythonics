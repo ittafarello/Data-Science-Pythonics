{
    "cells": [
        {
            "metadata": {},
            "cell_type": "code",
            "source": "from collections import defaultdict",
            "execution_count": 4,
            "outputs": []
        },
        {
            "metadata": {},
            "cell_type": "markdown",
            "source": "### Tenure = number of years of experience"
        },
        {
            "metadata": {},
            "cell_type": "code",
            "source": "salaries_and_tenures = [(83000, 8.7), (88000, 8.1),\n                        (48000, 0.7), (76000, 6),\n                        (69000, 6.5), (76000, 7.5),\n                        (60000, 2.5), (83000, 10),\n                        (48000, 1.9), (63000, 4.2)]",
            "execution_count": 5,
            "outputs": []
        },
        {
            "metadata": {},
            "cell_type": "code",
            "source": "",
            "execution_count": null,
            "outputs": []
        },
        {
            "metadata": {},
            "cell_type": "code",
            "source": "# Keys are years, values are lists of the salaries for each tenure.\nsalary_by_tenure = defaultdict(list)\nprint(salary_by_tenure)",
            "execution_count": 10,
            "outputs": [
                {
                    "output_type": "stream",
                    "text": "defaultdict(<class 'list'>, {})\n",
                    "name": "stdout"
                }
            ]
        },
        {
            "metadata": {},
            "cell_type": "code",
            "source": "for salary, tenure in salaries_and_tenures:\n    salary_by_tenure[tenure].append(salary)\n",
            "execution_count": 11,
            "outputs": []
        },
        {
            "metadata": {},
            "cell_type": "code",
            "source": "print(salary_by_tenure)",
            "execution_count": 12,
            "outputs": [
                {
                    "output_type": "stream",
                    "text": "defaultdict(<class 'list'>, {8.7: [83000], 8.1: [88000], 0.7: [48000], 6: [76000], 6.5: [69000], 7.5: [76000], 2.5: [60000], 10: [83000], 1.9: [48000], 4.2: [63000]})\n",
                    "name": "stdout"
                }
            ]
        },
        {
            "metadata": {},
            "cell_type": "code",
            "source": "# Keys are years, each value is average salary for that tenure.\naverage_salary_by_tenure = {\n    tenure: sum(salaries) / len(salaries)\n    for tenure, salaries in salary_by_tenure.items()\n}\n",
            "execution_count": 13,
            "outputs": []
        },
        {
            "metadata": {},
            "cell_type": "code",
            "source": "print(average_salary_by_tenure)",
            "execution_count": 14,
            "outputs": [
                {
                    "output_type": "stream",
                    "text": "{8.7: 83000.0, 8.1: 88000.0, 0.7: 48000.0, 6: 76000.0, 6.5: 69000.0, 7.5: 76000.0, 2.5: 60000.0, 10: 83000.0, 1.9: 48000.0, 4.2: 63000.0}\n",
                    "name": "stdout"
                }
            ]
        },
        {
            "metadata": {},
            "cell_type": "code",
            "source": "",
            "execution_count": null,
            "outputs": []
        },
        {
            "metadata": {},
            "cell_type": "code",
            "source": "def tenure_bucket(tenure):\n    if tenure < 2:\n        return \"less than two\"\n    elif tenure < 5:\n        return \"between two and five\"\n    else:\n        return \"more than five\"",
            "execution_count": 15,
            "outputs": []
        },
        {
            "metadata": {},
            "cell_type": "code",
            "source": "",
            "execution_count": null,
            "outputs": []
        },
        {
            "metadata": {},
            "cell_type": "code",
            "source": "# Keys are tenure buckets, values are lists of salaries for that bucket.\nsalary_by_tenure_bucket = defaultdict(list)",
            "execution_count": 19,
            "outputs": []
        },
        {
            "metadata": {},
            "cell_type": "code",
            "source": "print(salary_by_tenure_bucket)",
            "execution_count": 20,
            "outputs": [
                {
                    "output_type": "stream",
                    "text": "defaultdict(<class 'list'>, {})\n",
                    "name": "stdout"
                }
            ]
        },
        {
            "metadata": {},
            "cell_type": "code",
            "source": "for salary, tenure in salaries_and_tenures:\n    bucket = tenure_bucket(tenure)\n    salary_by_tenure_bucket[bucket].append(salary)",
            "execution_count": 21,
            "outputs": []
        },
        {
            "metadata": {},
            "cell_type": "code",
            "source": "print(salary_by_tenure_bucket)",
            "execution_count": 22,
            "outputs": [
                {
                    "output_type": "stream",
                    "text": "defaultdict(<class 'list'>, {'more than five': [83000, 88000, 76000, 69000, 76000, 83000], 'less than two': [48000, 48000], 'between two and five': [60000, 63000]})\n",
                    "name": "stdout"
                }
            ]
        },
        {
            "metadata": {},
            "cell_type": "code",
            "source": "average_salary_by_bucket = {\n  tenure_bucket: sum(salaries) / len(salaries)\n  for tenure_bucket, salaries in salary_by_tenure_bucket.items()\n}",
            "execution_count": 23,
            "outputs": []
        },
        {
            "metadata": {},
            "cell_type": "code",
            "source": "print(average_salary_by_bucket)",
            "execution_count": 24,
            "outputs": [
                {
                    "output_type": "stream",
                    "text": "{'more than five': 79166.66666666667, 'less than two': 48000.0, 'between two and five': 61500.0}\n",
                    "name": "stdout"
                }
            ]
        },
        {
            "metadata": {},
            "cell_type": "code",
            "source": "",
            "execution_count": null,
            "outputs": []
        },
        {
            "metadata": {},
            "cell_type": "code",
            "source": "def predict_paid_or_unpaid(years_experience):\n  if years_experience < 3.0:\n    return \"paid\"\n  elif years_experience < 8.5:\n    return \"unpaid\"\n  else:\n    return \"paid\"",
            "execution_count": 25,
            "outputs": []
        },
        {
            "metadata": {},
            "cell_type": "code",
            "source": "predict = {tenure: predict_paid_or_unpaid(tenure) \n           for salary, tenure in salaries_and_tenures}",
            "execution_count": 26,
            "outputs": []
        },
        {
            "metadata": {},
            "cell_type": "code",
            "source": "print(predict)",
            "execution_count": 27,
            "outputs": [
                {
                    "output_type": "stream",
                    "text": "{8.7: 'paid', 8.1: 'unpaid', 0.7: 'paid', 6: 'unpaid', 6.5: 'unpaid', 7.5: 'unpaid', 2.5: 'paid', 10: 'paid', 1.9: 'paid', 4.2: 'unpaid'}\n",
                    "name": "stdout"
                }
            ]
        },
        {
            "metadata": {},
            "cell_type": "code",
            "source": "",
            "execution_count": null,
            "outputs": []
        },
        {
            "metadata": {},
            "cell_type": "code",
            "source": "interests = [\n    (0, \"Hadoop\"), (0, \"Big Data\"), (0, \"HBase\"), (0, \"Java\"),\n    (0, \"Spark\"), (0, \"Storm\"), (0, \"Cassandra\"),\n    (1, \"NoSQL\"), (1, \"MongoDB\"), (1, \"Cassandra\"), (1, \"HBase\"),\n    (1, \"Postgres\"), (2, \"Python\"), (2, \"scikit-learn\"), (2, \"scipy\"),\n    (2, \"numpy\"), (2, \"statsmodels\"), (2, \"pandas\"), (3, \"R\"), (3, \"Python\"),\n    (3, \"statistics\"), (3, \"regression\"), (3, \"probability\"),\n    (4, \"machine learning\"), (4, \"regression\"), (4, \"decision trees\"),\n    (4, \"libsvm\"), (5, \"Python\"), (5, \"R\"), (5, \"Java\"), (5, \"C++\"),\n    (5, \"Haskell\"), (5, \"programming languages\"), (6, \"statistics\"),\n    (6, \"probability\"), (6, \"mathematics\"), (6, \"theory\"),\n    (7, \"machine learning\"), (7, \"scikit-learn\"), (7, \"Mahout\"),\n    (7, \"neural networks\"), (8, \"neural networks\"), (8, \"deep learning\"),\n    (8, \"Big Data\"), (8, \"artificial intelligence\"), (9, \"Hadoop\"),\n    (9, \"Java\"), (9, \"MapReduce\"), (9, \"Big Data\")\n]",
            "execution_count": 28,
            "outputs": []
        },
        {
            "metadata": {},
            "cell_type": "code",
            "source": "from collections import Counter ",
            "execution_count": 30,
            "outputs": []
        },
        {
            "metadata": {},
            "cell_type": "code",
            "source": "words_and_counts = Counter(word\n                           for user, interest in interests\n                           for word in interest.lower().split())",
            "execution_count": 31,
            "outputs": []
        },
        {
            "metadata": {},
            "cell_type": "code",
            "source": "for word, count in words_and_counts.most_common():\n    if count > 1:\n        print(word, count)",
            "execution_count": 32,
            "outputs": [
                {
                    "output_type": "stream",
                    "text": "big 3\ndata 3\njava 3\npython 3\nlearning 3\nhadoop 2\nhbase 2\ncassandra 2\nscikit-learn 2\nr 2\nstatistics 2\nregression 2\nprobability 2\nmachine 2\nneural 2\nnetworks 2\n",
                    "name": "stdout"
                }
            ]
        },
        {
            "metadata": {},
            "cell_type": "code",
            "source": "",
            "execution_count": null,
            "outputs": []
        }
    ],
    "metadata": {
        "kernelspec": {
            "name": "python3",
            "display_name": "Python 3.6",
            "language": "python"
        },
        "language_info": {
            "name": "python",
            "version": "3.6.9",
            "mimetype": "text/x-python",
            "codemirror_mode": {
                "name": "ipython",
                "version": 3
            },
            "pygments_lexer": "ipython3",
            "nbconvert_exporter": "python",
            "file_extension": ".py"
        }
    },
    "nbformat": 4,
    "nbformat_minor": 1
}