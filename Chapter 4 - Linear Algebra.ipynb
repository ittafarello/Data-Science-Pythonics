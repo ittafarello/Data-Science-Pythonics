{
    "cells": [
        {
            "metadata": {
                "collapsed": true
            },
            "cell_type": "code",
            "source": "",
            "execution_count": null,
            "outputs": []
        },
        {
            "metadata": {},
            "cell_type": "code",
            "source": "from typing import List\n\nVector = List[float]\n\nheight_weight_age = [70,  # inches,\n                     170, # pounds,\n                     40 ] # years\n\ngrades = [95,   # exam1\n          80,   # exam2\n          75,   # exam3\n          62 ]  # exam4",
            "execution_count": 3,
            "outputs": []
        },
        {
            "metadata": {},
            "cell_type": "code",
            "source": "def add(v: Vector, w: Vector) -> Vector:\n    \"\"\"Adds corresponding elements\"\"\"\n    # This line will enforce the vectors have the same number of elements\n    assert len(v) == len(w), \"vectors must be the same length\"\n    \n    return [v_i + w_i for v_i, w_i in zip(v, w)]",
            "execution_count": 13,
            "outputs": []
        },
        {
            "metadata": {},
            "cell_type": "code",
            "source": "print(add([1, 2, 3], [4, 5, 9]))",
            "execution_count": 14,
            "outputs": [
                {
                    "output_type": "stream",
                    "text": "[5, 7, 12]\n",
                    "name": "stdout"
                }
            ]
        },
        {
            "metadata": {},
            "cell_type": "code",
            "source": "def subtract(v: Vector, w: Vector) -> Vector:\n    \"\"\"Subtracts corresponding elements\"\"\"\n    assert len(v) == len(w), \"vectors must be the same length\"\n\n    return [v_i - w_i for v_i, w_i in zip(v, w)]\n",
            "execution_count": 15,
            "outputs": []
        },
        {
            "metadata": {},
            "cell_type": "code",
            "source": "print(subtract([1, 2, 3], [4, 5, 9]))",
            "execution_count": 16,
            "outputs": [
                {
                    "output_type": "stream",
                    "text": "[-3, -3, -6]\n",
                    "name": "stdout"
                }
            ]
        },
        {
            "metadata": {},
            "cell_type": "code",
            "source": "def vector_sum(vectors: List[Vector]) -> Vector:\n    \"\"\"Sums all corresponding elements\"\"\"\n    # Check that vectors is not empty\n    assert vectors, \"no vectors provided!\"\n\n    # Check the vectors are all the same size\n    num_elements = len(vectors[0])\n    assert all(len(v) == num_elements for v in vectors), \"different sizes!\"\n\n    # the i-th element of the result is the sum of every vector[i]\n    return [sum(vector[i] for vector in vectors)\n            for i in range(num_elements)]",
            "execution_count": 17,
            "outputs": []
        },
        {
            "metadata": {},
            "cell_type": "code",
            "source": "print(vector_sum([[1, 3], [3, 4], [5, 6], [7, 8]]))",
            "execution_count": 20,
            "outputs": [
                {
                    "output_type": "stream",
                    "text": "[16, 21]\n",
                    "name": "stdout"
                }
            ]
        },
        {
            "metadata": {},
            "cell_type": "code",
            "source": "def scalar_multiply(c: float, v: Vector) -> Vector:\n    \"\"\"Multiplies every element by c\"\"\"\n    return [c * v_i for v_i in v]",
            "execution_count": 22,
            "outputs": []
        },
        {
            "metadata": {},
            "cell_type": "code",
            "source": "print(scalar_multiply(2, [1, 2, 3]))",
            "execution_count": 23,
            "outputs": [
                {
                    "output_type": "stream",
                    "text": "[2, 4, 6]\n",
                    "name": "stdout"
                }
            ]
        },
        {
            "metadata": {},
            "cell_type": "code",
            "source": "def vector_mean(vectors: List[Vector]) -> Vector:\n    \"\"\"Computes the element-wise average\"\"\"\n    n = len(vectors)\n    return scalar_multiply(1/n, vector_sum(vectors))",
            "execution_count": 26,
            "outputs": []
        },
        {
            "metadata": {},
            "cell_type": "code",
            "source": "print(vector_mean([[1, 2], [3, 4], [5, 6]]))",
            "execution_count": 27,
            "outputs": [
                {
                    "output_type": "stream",
                    "text": "[3.0, 4.0]\n",
                    "name": "stdout"
                }
            ]
        },
        {
            "metadata": {},
            "cell_type": "code",
            "source": "def dot(v: Vector, w: Vector) -> float:\n    \"\"\"Computes v_1 * w_1 + ... + v_n * w_n\"\"\"\n    assert len(v) == len(w), \"vectors must be same length\"\n\n    return sum(v_i * w_i for v_i, w_i in zip(v, w))",
            "execution_count": 28,
            "outputs": []
        },
        {
            "metadata": {},
            "cell_type": "code",
            "source": "print(dot([1, 2, 3], [4, 5, 6]))",
            "execution_count": 29,
            "outputs": [
                {
                    "output_type": "stream",
                    "text": "32\n",
                    "name": "stdout"
                }
            ]
        },
        {
            "metadata": {},
            "cell_type": "code",
            "source": "def sum_of_squares(v: Vector) -> float:\n    \"\"\"Returns v_1 * v_1 + ... + v_n * v_n\"\"\"\n    return dot(v, v)",
            "execution_count": 30,
            "outputs": []
        },
        {
            "metadata": {},
            "cell_type": "code",
            "source": "print(sum_of_squares([1, 2, 3]))",
            "execution_count": 31,
            "outputs": [
                {
                    "output_type": "stream",
                    "text": "14\n",
                    "name": "stdout"
                }
            ]
        },
        {
            "metadata": {},
            "cell_type": "code",
            "source": "import math\n\ndef magnitude(v: Vector) -> float:\n    \"\"\"Returns the magnitude (or length) of v\"\"\"\n    return math.sqrt(sum_of_squares(v))   # math.sqrt is square root function\n",
            "execution_count": 32,
            "outputs": []
        },
        {
            "metadata": {},
            "cell_type": "code",
            "source": "print(magnitude([3, 4]))",
            "execution_count": 33,
            "outputs": [
                {
                    "output_type": "stream",
                    "text": "5.0\n",
                    "name": "stdout"
                }
            ]
        },
        {
            "metadata": {},
            "cell_type": "code",
            "source": "def squared_distance(v: Vector, w: Vector) -> float:\n    \"\"\"Computes (v_1 - w_1) ** 2 + ... + (v_n - w_n) ** 2\"\"\"\n    return sum_of_squares(subtract(v, w))\n\ndef distance(v: Vector, w: Vector) -> float:\n    \"\"\"Computes the distance between v and w\"\"\"\n    return math.sqrt(squared_distance(v, w))",
            "execution_count": 35,
            "outputs": []
        },
        {
            "metadata": {},
            "cell_type": "code",
            "source": "print(distance([1, 2, 3], [4, 5, 6]))",
            "execution_count": 36,
            "outputs": [
                {
                    "output_type": "stream",
                    "text": "5.196152422706632\n",
                    "name": "stdout"
                }
            ]
        },
        {
            "metadata": {},
            "cell_type": "markdown",
            "source": "## This function produce the same results as the functions above"
        },
        {
            "metadata": {},
            "cell_type": "code",
            "source": "def distance(v: Vector, w: Vector) -> float:\n    return magnitude(subtract(v, w))",
            "execution_count": 37,
            "outputs": []
        },
        {
            "metadata": {},
            "cell_type": "code",
            "source": "print(distance([1, 2, 3], [4, 5, 6]))",
            "execution_count": 38,
            "outputs": [
                {
                    "output_type": "stream",
                    "text": "5.196152422706632\n",
                    "name": "stdout"
                }
            ]
        },
        {
            "metadata": {},
            "cell_type": "markdown",
            "source": "# Matrices"
        },
        {
            "metadata": {},
            "cell_type": "code",
            "source": "Matrix = List[List[float]]\n\nA = [[1, 2, 3],  # A has 2 rows and 3 columns\n     [4, 5, 6]]\n\nB = [[1, 2],     # B has 3 rows and 2 columns\n     [3, 4],\n     [5, 6]]",
            "execution_count": 39,
            "outputs": []
        },
        {
            "metadata": {},
            "cell_type": "code",
            "source": "from typing import Tuple\n\ndef shape(A: Matrix) -> Tuple[int, int]:\n    \"\"\"Returns (# of rows of A, # of columns of A)\"\"\"\n    num_rows = len(A)\n    num_cols = len(A[0]) if A else 0   # number of elements in first row\n    return num_rows, num_cols",
            "execution_count": 40,
            "outputs": []
        },
        {
            "metadata": {},
            "cell_type": "code",
            "source": "print(shape([[1, 2, 3], [4, 5, 6]]))",
            "execution_count": 42,
            "outputs": [
                {
                    "output_type": "stream",
                    "text": "(2, 3)\n",
                    "name": "stdout"
                }
            ]
        },
        {
            "metadata": {},
            "cell_type": "code",
            "source": "",
            "execution_count": null,
            "outputs": []
        },
        {
            "metadata": {},
            "cell_type": "code",
            "source": "def get_row(A: Matrix, i: int) -> Vector:\n    \"\"\"Returns the i-th row of A (as a Vector)\"\"\"\n    return A[i]             # A[i] is already the ith row\n\ndef get_column(A: Matrix, j: int) -> Vector:\n    \"\"\"Returns the j-th column of A (as a Vector)\"\"\"\n    return [A_i[j]          # jth element of row A_i\n            for A_i in A]   # for each row A_i",
            "execution_count": 43,
            "outputs": []
        },
        {
            "metadata": {},
            "cell_type": "code",
            "source": "from typing import Callable\n\ndef make_matrix(num_rows: int,\n                num_cols: int,\n                entry_fn: Callable[[int, int], float]) -> Matrix:\n    \"\"\"\n    Returns a num_rows x num_cols matrix\n    whose (i,j)-th entry is entry_fn(i, j)\n    \"\"\"\n    return [[entry_fn(i, j)             # given i, create a list\n             for j in range(num_cols)]  #   [entry_fn(i, 0), ... ]\n            for i in range(num_rows)]   # create one list for each i",
            "execution_count": 44,
            "outputs": []
        },
        {
            "metadata": {},
            "cell_type": "code",
            "source": "def identity_matrix(n: int) -> Matrix:\n    \"\"\"Returns the n x n identity matrix\"\"\"\n    return make_matrix(n, n, lambda i, j: 1 if i == j else 0)",
            "execution_count": 45,
            "outputs": []
        },
        {
            "metadata": {},
            "cell_type": "code",
            "source": "print(identity_matrix(5))",
            "execution_count": 46,
            "outputs": [
                {
                    "output_type": "stream",
                    "text": "[[1, 0, 0, 0, 0], [0, 1, 0, 0, 0], [0, 0, 1, 0, 0], [0, 0, 0, 1, 0], [0, 0, 0, 0, 1]]\n",
                    "name": "stdout"
                }
            ]
        },
        {
            "metadata": {},
            "cell_type": "markdown",
            "source": "# References"
        },
        {
            "metadata": {},
            "cell_type": "markdown",
            "source": "- [A Free text for a standard US undergraduate course](http://joshua.smcvt.edu/linearalgebra/)\n- [Linear Algebra](https://www.math.ucdavis.edu/~linear/linear-guest.pdf)\n- [Linear Algebra Done Wrong](https://www.math.brown.edu/~treil/papers/LADW/LADW_2017-09-04.pdf)"
        },
        {
            "metadata": {},
            "cell_type": "code",
            "source": "",
            "execution_count": null,
            "outputs": []
        }
    ],
    "metadata": {
        "kernelspec": {
            "name": "python3",
            "display_name": "Python 3.6",
            "language": "python"
        },
        "language_info": {
            "name": "python",
            "version": "3.6.9",
            "mimetype": "text/x-python",
            "codemirror_mode": {
                "name": "ipython",
                "version": 3
            },
            "pygments_lexer": "ipython3",
            "nbconvert_exporter": "python",
            "file_extension": ".py"
        }
    },
    "nbformat": 4,
    "nbformat_minor": 1
}