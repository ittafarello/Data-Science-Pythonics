{
    "cells": [
        {
            "metadata": {
                "collapsed": true
            },
            "cell_type": "markdown",
            "source": "### Iterator"
        },
        {
            "metadata": {},
            "cell_type": "code",
            "source": "def generate_range(n):\n    print(f\"Iterate {n} vezes\")\n    i = 0\n    while i < n:\n        # every time the process pass around the yield statement , the value will be sent to the outsite FOR\n        yield i*3   # every call to yield produces a value of the generator\n        i += 1",
            "execution_count": 1,
            "outputs": []
        },
        {
            "metadata": {},
            "cell_type": "code",
            "source": "for i in generate_range(20):\n    print(f\"i: {i}\")",
            "execution_count": 2,
            "outputs": [
                {
                    "output_type": "stream",
                    "text": "Iterate 20 vezes\ni: 0\ni: 3\ni: 6\ni: 9\ni: 12\ni: 15\ni: 18\ni: 21\ni: 24\ni: 27\ni: 30\ni: 33\ni: 36\ni: 39\ni: 42\ni: 45\ni: 48\ni: 51\ni: 54\ni: 57\n",
                    "name": "stdout"
                }
            ]
        },
        {
            "metadata": {},
            "cell_type": "markdown",
            "source": "## Iterate over the same function but this time it will bring the number that are divided by five"
        },
        {
            "metadata": {},
            "cell_type": "code",
            "source": "evens_divided_by_5 = (i for i in generate_range(20) if i % 5 == 0)\nfor i in evens_divided_by_5:\n    print(f\"i: {i}\")",
            "execution_count": 3,
            "outputs": [
                {
                    "output_type": "stream",
                    "text": "Iterate 20 vezes\ni: 0\ni: 15\ni: 30\ni: 45\n",
                    "name": "stdout"
                }
            ]
        },
        {
            "metadata": {},
            "cell_type": "code",
            "source": "",
            "execution_count": null,
            "outputs": []
        },
        {
            "metadata": {},
            "cell_type": "code",
            "source": "def natural_numbers():\n    \"\"\"returns 1, 2, 3, ...\"\"\"\n    n = 1\n    while True:\n        yield n\n        n += 1\n        # After 50 the code will break an get out of the while loop\n        if n>50:\n            break",
            "execution_count": 14,
            "outputs": []
        },
        {
            "metadata": {},
            "cell_type": "code",
            "source": "# None of these computations *does* anything until we iterate\ndata = natural_numbers()",
            "execution_count": 25,
            "outputs": []
        },
        {
            "metadata": {},
            "cell_type": "code",
            "source": "# None of these computations *does* anything until we iterate\nevens = (x for x in data if x % 2 == 0)",
            "execution_count": 26,
            "outputs": []
        },
        {
            "metadata": {},
            "cell_type": "code",
            "source": "# None of these computations *does* anything until we iterate\neven_squares = (x ** 2 for x in evens)",
            "execution_count": 27,
            "outputs": []
        },
        {
            "metadata": {},
            "cell_type": "code",
            "source": "# None of these computations *does* anything until we iterate\neven_squares_ending_in_six = (x for x in even_squares if x % 10 == 6)",
            "execution_count": 28,
            "outputs": []
        },
        {
            "metadata": {},
            "cell_type": "markdown",
            "source": "## Attention, It is possible to iterate only one time for any of the variables below"
        },
        {
            "metadata": {},
            "cell_type": "code",
            "source": "for i in evens:\n     print(f\"i: {i}\")",
            "execution_count": 29,
            "outputs": [
                {
                    "output_type": "stream",
                    "text": "i: 2\ni: 4\ni: 6\ni: 8\ni: 10\ni: 12\ni: 14\ni: 16\ni: 18\ni: 20\ni: 22\ni: 24\ni: 26\ni: 28\ni: 30\ni: 32\ni: 34\ni: 36\ni: 38\ni: 40\ni: 42\ni: 44\ni: 46\ni: 48\ni: 50\n",
                    "name": "stdout"
                }
            ]
        },
        {
            "metadata": {},
            "cell_type": "code",
            "source": "for i in even_squares:\n     print(f\"i: {i}\")",
            "execution_count": 30,
            "outputs": []
        },
        {
            "metadata": {},
            "cell_type": "code",
            "source": "for i in even_squares_ending_in_six:\n     print(f\"i: {i}\")",
            "execution_count": 31,
            "outputs": []
        },
        {
            "metadata": {},
            "cell_type": "markdown",
            "source": "## Randomness"
        },
        {
            "metadata": {},
            "cell_type": "code",
            "source": "import random\nrandom.seed(10)  # this ensures we get the same results every time\n\nfour_uniform_randoms = [random.random() for _ in range(4)]",
            "execution_count": 32,
            "outputs": []
        },
        {
            "metadata": {},
            "cell_type": "code",
            "source": "print(four_uniform_randoms)",
            "execution_count": 33,
            "outputs": [
                {
                    "output_type": "stream",
                    "text": "[0.5714025946899135, 0.4288890546751146, 0.5780913011344704, 0.20609823213950174]\n",
                    "name": "stdout"
                }
            ]
        },
        {
            "metadata": {},
            "cell_type": "code",
            "source": "random.seed(10)         # set the seed to 10\nprint(random.random())  # 0.57140259469\nrandom.seed(10)         # reset the seed to 10\nprint(random.random())  # 0.57140259469 again",
            "execution_count": 34,
            "outputs": [
                {
                    "output_type": "stream",
                    "text": "0.5714025946899135\n0.5714025946899135\n",
                    "name": "stdout"
                }
            ]
        },
        {
            "metadata": {},
            "cell_type": "code",
            "source": "print(random.randrange(10))   # choose a number randomly from range(10) = [0, 1, ..., 9]\nprint(random.randrange(3, 6)) # choose a number randomly from range(3, 6) = [3, 4, 5]",
            "execution_count": 40,
            "outputs": [
                {
                    "output_type": "stream",
                    "text": "4\n5\n",
                    "name": "stdout"
                }
            ]
        },
        {
            "metadata": {},
            "cell_type": "code",
            "source": "up_to_ten = [1, 2, 3, 4, 5, 6, 7, 8, 9, 10]\nrandom.shuffle(up_to_ten)\nprint(up_to_ten)\n# [7, 2, 6, 8, 9, 4, 10, 1, 3, 5]   (your results will probably be different)",
            "execution_count": 43,
            "outputs": [
                {
                    "output_type": "stream",
                    "text": "[10, 9, 1, 5, 4, 2, 7, 8, 3, 6]\n",
                    "name": "stdout"
                }
            ]
        },
        {
            "metadata": {},
            "cell_type": "code",
            "source": "my_best_friend = random.choice([\"Alice\", \"Bob\", \"Charlie\"])     # \"Bob\" for me\nprint(my_best_friend)",
            "execution_count": 48,
            "outputs": [
                {
                    "output_type": "stream",
                    "text": "Charlie\n",
                    "name": "stdout"
                }
            ]
        },
        {
            "metadata": {},
            "cell_type": "code",
            "source": "lottery_numbers = range(60)\nwinning_numbers = random.sample(lottery_numbers, 6)  # [16, 36, 10, 6, 25, 9]\nprint(winning_numbers)",
            "execution_count": 50,
            "outputs": [
                {
                    "output_type": "stream",
                    "text": "[35, 28, 27, 30, 4, 41]\n",
                    "name": "stdout"
                }
            ]
        },
        {
            "metadata": {},
            "cell_type": "code",
            "source": "four_with_replacement = [random.choice(range(10)) for _ in range(4)]\nprint(four_with_replacement)  # [9, 4, 4, 2]",
            "execution_count": 52,
            "outputs": [
                {
                    "output_type": "stream",
                    "text": "[3, 6, 3, 0]\n",
                    "name": "stdout"
                }
            ]
        },
        {
            "metadata": {},
            "cell_type": "markdown",
            "source": "## split the tuples and generate anothe tuple with the values"
        },
        {
            "metadata": {},
            "cell_type": "code",
            "source": "pairs = [('a', 1), ('b', 2), ('c', 3)]\nletters, numbers = zip(*pairs)\nprint(letters)\nprint(numbers)",
            "execution_count": 55,
            "outputs": [
                {
                    "output_type": "stream",
                    "text": "('a', 'b', 'c')\n(1, 2, 3)\n",
                    "name": "stdout"
                }
            ]
        },
        {
            "metadata": {},
            "cell_type": "markdown",
            "source": "## This line will produce the same results"
        },
        {
            "metadata": {},
            "cell_type": "code",
            "source": "letters, numbers = zip(('a', 1), ('b', 2), ('c', 3))\nprint(letters)\nprint(numbers)",
            "execution_count": 57,
            "outputs": [
                {
                    "output_type": "stream",
                    "text": "('a', 'b', 'c')\n(1, 2, 3)\n",
                    "name": "stdout"
                }
            ]
        },
        {
            "metadata": {},
            "cell_type": "markdown",
            "source": "## The asterisk (*) performs argument unpacking, which uses the elements of pairs as individual arguments"
        },
        {
            "metadata": {},
            "cell_type": "code",
            "source": "def add(a, b): return a + b",
            "execution_count": 62,
            "outputs": []
        },
        {
            "metadata": {},
            "cell_type": "code",
            "source": "add(1, 2)      # returns 3",
            "execution_count": 63,
            "outputs": [
                {
                    "output_type": "execute_result",
                    "execution_count": 63,
                    "data": {
                        "text/plain": "3"
                    },
                    "metadata": {}
                }
            ]
        },
        {
            "metadata": {},
            "cell_type": "code",
            "source": "try:\n    add([1, 2])\nexcept TypeError:\n    print(\"add expects two inputs\")",
            "execution_count": 64,
            "outputs": [
                {
                    "output_type": "stream",
                    "text": "add expects two inputs\n",
                    "name": "stdout"
                }
            ]
        },
        {
            "metadata": {},
            "cell_type": "code",
            "source": "add(*[1, 2])   # returns 3",
            "execution_count": 65,
            "outputs": [
                {
                    "output_type": "execute_result",
                    "execution_count": 65,
                    "data": {
                        "text/plain": "3"
                    },
                    "metadata": {}
                }
            ]
        },
        {
            "metadata": {},
            "cell_type": "markdown",
            "source": "## Parsing Function to another function"
        },
        {
            "metadata": {},
            "cell_type": "code",
            "source": "def doubler(f):\n    print(\"doubler is ready !\")\n    # Here we define a new function that keeps a reference to f\n    def g(x):\n        print(\"I am inside g\")\n        print(f\"{x}->g\")\n        value = f(x) # return a value\n        print(f\"f({x}) = {value}\")\n        print(f\"2 * {value} = {2 * value}\")\n        print(\"I am out of g\")\n        return 2 * value\n\n    # And return that new function\n    return g",
            "execution_count": 126,
            "outputs": []
        },
        {
            "metadata": {},
            "cell_type": "code",
            "source": "def f1(x):\n    print(\"\\tI am inside f1\")\n    print(f\"\\t{x}->f1;\")\n    print(f\"\\t{x}+1 = {x+1}\")\n    print(\"\\tI am out of f1\")\n    return x + 1",
            "execution_count": 130,
            "outputs": []
        },
        {
            "metadata": {},
            "cell_type": "code",
            "source": "g = doubler(f1)",
            "execution_count": 131,
            "outputs": [
                {
                    "output_type": "stream",
                    "text": "doubler is ready !\n",
                    "name": "stdout"
                }
            ]
        },
        {
            "metadata": {},
            "cell_type": "code",
            "source": "print(g(3))",
            "execution_count": 134,
            "outputs": [
                {
                    "output_type": "stream",
                    "text": "I am inside g\n3->g\n\tI am inside f1\n\t3->f1;\n\t3+1 = 4\n\tI am out of f1\nf(3) = 4\n2 * 4 = 8\nI am out of g\n8\n",
                    "name": "stdout"
                }
            ]
        },
        {
            "metadata": {},
            "cell_type": "code",
            "source": "print(g(-3))",
            "execution_count": 136,
            "outputs": [
                {
                    "output_type": "stream",
                    "text": "I am inside g\n-3->g\n\tI am inside f1\n\t-3->f1;\n\t-3+1 = -2\n\tI am out of f1\nf(-3) = -2\n2 * -2 = -4\nI am out of g\n-4\n",
                    "name": "stdout"
                }
            ]
        },
        {
            "metadata": {},
            "cell_type": "markdown",
            "source": "## Parsed multiple arguments"
        },
        {
            "metadata": {},
            "cell_type": "code",
            "source": "def magic(*args, **kwargs):\n    print(\"unnamed args:\", args)\n    print(\"keyword args:\", kwargs)",
            "execution_count": 137,
            "outputs": []
        },
        {
            "metadata": {},
            "cell_type": "code",
            "source": "magic(1, 2, key=\"word\", key2=\"word2\")",
            "execution_count": 138,
            "outputs": [
                {
                    "output_type": "stream",
                    "text": "unnamed args: (1, 2)\nkeyword args: {'key': 'word', 'key2': 'word2'}\n",
                    "name": "stdout"
                }
            ]
        },
        {
            "metadata": {},
            "cell_type": "code",
            "source": "def other_way_magic(x, y, z):\n    print(f\"x={x}, y={y}, z={z}\")\n    return x + y + z",
            "execution_count": 147,
            "outputs": []
        },
        {
            "metadata": {},
            "cell_type": "markdown",
            "source": "## unnamed args"
        },
        {
            "metadata": {},
            "cell_type": "code",
            "source": "x_y_list = [1, 2]",
            "execution_count": 148,
            "outputs": []
        },
        {
            "metadata": {},
            "cell_type": "markdown",
            "source": "## keywork args"
        },
        {
            "metadata": {},
            "cell_type": "code",
            "source": "z_dict = {\"z\": 3}",
            "execution_count": 149,
            "outputs": []
        },
        {
            "metadata": {},
            "cell_type": "markdown",
            "source": "## ** will parse the second element of the dictionary, note that *z_dict would parse the element z to the function"
        },
        {
            "metadata": {},
            "cell_type": "code",
            "source": "print(other_way_magic(*x_y_list, **z_dict))",
            "execution_count": 153,
            "outputs": [
                {
                    "output_type": "stream",
                    "text": "x=1, y=2, z=3\n6\n",
                    "name": "stdout"
                }
            ]
        }
    ],
    "metadata": {
        "kernelspec": {
            "name": "python3",
            "display_name": "Python 3.6",
            "language": "python"
        },
        "language_info": {
            "name": "python",
            "version": "3.6.9",
            "mimetype": "text/x-python",
            "codemirror_mode": {
                "name": "ipython",
                "version": 3
            },
            "pygments_lexer": "ipython3",
            "nbconvert_exporter": "python",
            "file_extension": ".py"
        }
    },
    "nbformat": 4,
    "nbformat_minor": 1
}