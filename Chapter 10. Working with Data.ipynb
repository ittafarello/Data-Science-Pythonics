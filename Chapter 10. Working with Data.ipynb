{
    "cells": [
        {
            "metadata": {
                "collapsed": true
            },
            "cell_type": "code",
            "source": "",
            "execution_count": null,
            "outputs": []
        },
        {
            "metadata": {},
            "cell_type": "code",
            "source": "from typing import List, Dict\nfrom collections import Counter\nimport math\n\nimport matplotlib.pyplot as plt\n\ndef bucketize(point: float, bucket_size: float) -> float:\n    \"\"\"Floor the point to the next lower multiple of bucket_size\"\"\"\n    return bucket_size * math.floor(point / bucket_size)\n\ndef make_histogram(points: List[float], bucket_size: float) -> Dict[float, int]:\n    \"\"\"Buckets the points and counts how many in each bucket\"\"\"\n    return Counter(bucketize(point, bucket_size) for point in points)\n\ndef plot_histogram(points: List[float], bucket_size: float, title: str = \"\"):\n    histogram = make_histogram(points, bucket_size)\n    plt.bar(histogram.keys(), histogram.values(), width=bucket_size)\n    plt.title(title)",
            "execution_count": null,
            "outputs": []
        },
        {
            "metadata": {},
            "cell_type": "code",
            "source": "",
            "execution_count": null,
            "outputs": []
        },
        {
            "metadata": {},
            "cell_type": "code",
            "source": "import random\nfrom scratch.probability import inverse_normal_cdf\n\nrandom.seed(0)\n\n# uniform between -100 and 100\nuniform = [200 * random.random() - 100 for _ in range(10000)]\n\n# normal distribution with mean 0, standard deviation 57\nnormal = [57 * inverse_normal_cdf(random.random())\n          for _ in range(10000)]",
            "execution_count": null,
            "outputs": []
        },
        {
            "metadata": {},
            "cell_type": "code",
            "source": "",
            "execution_count": null,
            "outputs": []
        },
        {
            "metadata": {},
            "cell_type": "code",
            "source": "plot_histogram(uniform, 10, \"Uniform Histogram\")",
            "execution_count": null,
            "outputs": []
        },
        {
            "metadata": {},
            "cell_type": "code",
            "source": "",
            "execution_count": null,
            "outputs": []
        },
        {
            "metadata": {},
            "cell_type": "code",
            "source": "plot_histogram(normal, 10, \"Normal Histogram\")",
            "execution_count": null,
            "outputs": []
        },
        {
            "metadata": {},
            "cell_type": "markdown",
            "source": "## Two Dimensions"
        },
        {
            "metadata": {},
            "cell_type": "code",
            "source": "def random_normal() -> float:\n    \"\"\"Returns a random draw from a standard normal distribution\"\"\"\n    return inverse_normal_cdf(random.random())\n\nxs = [random_normal() for _ in range(1000)]\nys1 = [ x + random_normal() / 2 for x in xs]\nys2 = [-x + random_normal() / 2 for x in xs]",
            "execution_count": null,
            "outputs": []
        },
        {
            "metadata": {},
            "cell_type": "code",
            "source": "",
            "execution_count": null,
            "outputs": []
        },
        {
            "metadata": {},
            "cell_type": "code",
            "source": "plt.scatter(xs, ys1, marker='.', color='black', label='ys1')\nplt.scatter(xs, ys2, marker='.', color='gray',  label='ys2')\nplt.xlabel('xs')\nplt.ylabel('ys')\nplt.legend(loc=9)\nplt.title(\"Very Different Joint Distributions\")\nplt.show()",
            "execution_count": null,
            "outputs": []
        },
        {
            "metadata": {},
            "cell_type": "code",
            "source": "",
            "execution_count": null,
            "outputs": []
        },
        {
            "metadata": {},
            "cell_type": "code",
            "source": "from scratch.statistics import correlation\n\nprint(correlation(xs, ys1))      # about 0.9\nprint(correlation(xs, ys2))      # about -0.9",
            "execution_count": null,
            "outputs": []
        },
        {
            "metadata": {},
            "cell_type": "markdown",
            "source": "## Many Dimensions"
        },
        {
            "metadata": {},
            "cell_type": "code",
            "source": "from scratch.linear_algebra import Matrix, Vector, make_matrix\n\ndef correlation_matrix(data: List[Vector]) -> Matrix:\n    \"\"\"\n    Returns the len(data) x len(data) matrix whose (i, j)-th entry\n    is the correlation between data[i] and data[j]\n    \"\"\"\n    def correlation_ij(i: int, j: int) -> float:\n        return correlation(data[i], data[j])\n\n    return make_matrix(len(data), len(data), correlation_ij)",
            "execution_count": null,
            "outputs": []
        },
        {
            "metadata": {},
            "cell_type": "code",
            "source": "",
            "execution_count": null,
            "outputs": []
        },
        {
            "metadata": {},
            "cell_type": "code",
            "source": "# corr_data is a list of four 100-d vectors\nnum_vectors = len(corr_data)\nfig, ax = plt.subplots(num_vectors, num_vectors)\n\nfor i in range(num_vectors):\n    for j in range(num_vectors):\n\n        # Scatter column_j on the x-axis vs. column_i on the y-axis\n        if i != j: ax[i][j].scatter(corr_data[j], corr_data[i])\n\n        # unless i == j, in which case show the series name\n        else: ax[i][j].annotate(\"series \" + str(i), (0.5, 0.5),\n                                xycoords='axes fraction',\n                                ha=\"center\", va=\"center\")\n\n        # Then hide axis labels except left and bottom charts\n        if i < num_vectors - 1: ax[i][j].xaxis.set_visible(False)\n        if j > 0: ax[i][j].yaxis.set_visible(False)\n\n# Fix the bottom-right and top-left axis labels, which are wrong because\n# their charts only have text in them\nax[-1][-1].set_xlim(ax[0][-1].get_xlim())\nax[0][0].set_ylim(ax[0][1].get_ylim())\n\nplt.show()",
            "execution_count": null,
            "outputs": []
        },
        {
            "metadata": {},
            "cell_type": "code",
            "source": "",
            "execution_count": null,
            "outputs": []
        },
        {
            "metadata": {},
            "cell_type": "markdown",
            "source": "## Using NamedTuples"
        },
        {
            "metadata": {},
            "cell_type": "code",
            "source": "",
            "execution_count": null,
            "outputs": []
        },
        {
            "metadata": {},
            "cell_type": "code",
            "source": "import datetime\n\nstock_price = {'closing_price': 102.06,\n               'date': datetime.date(2014, 8, 29),\n               'symbol': 'AAPL'}",
            "execution_count": null,
            "outputs": []
        },
        {
            "metadata": {},
            "cell_type": "code",
            "source": "# oops, typo\nstock_price['cosing_price'] = 103.06",
            "execution_count": null,
            "outputs": []
        },
        {
            "metadata": {},
            "cell_type": "code",
            "source": "prices: Dict[datetime.date, float] = {}",
            "execution_count": null,
            "outputs": []
        },
        {
            "metadata": {},
            "cell_type": "code",
            "source": "",
            "execution_count": null,
            "outputs": []
        },
        {
            "metadata": {},
            "cell_type": "code",
            "source": "from collections import namedtuple\n\nStockPrice = namedtuple('StockPrice', ['symbol', 'date', 'closing_price'])\nprice = StockPrice('MSFT', datetime.date(2018, 12, 14), 106.03)\n\nassert price.symbol == 'MSFT'\nassert price.closing_price == 106.03",
            "execution_count": null,
            "outputs": []
        },
        {
            "metadata": {},
            "cell_type": "code",
            "source": "",
            "execution_count": null,
            "outputs": []
        },
        {
            "metadata": {},
            "cell_type": "code",
            "source": "from typing import NamedTuple\n\nclass StockPrice(NamedTuple):\n    symbol: str\n    date: datetime.date\n    closing_price: float\n\n    def is_high_tech(self) -> bool:\n        \"\"\"It's a class, so we can add methods too\"\"\"\n        return self.symbol in ['MSFT', 'GOOG', 'FB', 'AMZN', 'AAPL']\n\nprice = StockPrice('MSFT', datetime.date(2018, 12, 14), 106.03)\n\nassert price.symbol == 'MSFT'\nassert price.closing_price == 106.03\nassert price.is_high_tech()",
            "execution_count": null,
            "outputs": []
        },
        {
            "metadata": {},
            "cell_type": "code",
            "source": "",
            "execution_count": null,
            "outputs": []
        },
        {
            "metadata": {},
            "cell_type": "markdown",
            "source": "## Dataclasses"
        },
        {
            "metadata": {},
            "cell_type": "code",
            "source": "from dataclasses import dataclass\n\n@dataclass\nclass StockPrice2:\n    symbol: str\n    date: datetime.date\n    closing_price: float\n\n    def is_high_tech(self) -> bool:\n        \"\"\"It's a class, so we can add methods too\"\"\"\n        return self.symbol in ['MSFT', 'GOOG', 'FB', 'AMZN', 'AAPL']\n\nprice2 = StockPrice2('MSFT', datetime.date(2018, 12, 14), 106.03)\n\nassert price2.symbol == 'MSFT'\nassert price2.closing_price == 106.03\nassert price2.is_high_tech()",
            "execution_count": null,
            "outputs": []
        },
        {
            "metadata": {},
            "cell_type": "code",
            "source": "",
            "execution_count": null,
            "outputs": []
        },
        {
            "metadata": {},
            "cell_type": "code",
            "source": "# stock split\nprice2.closing_price /= 2\nassert price2.closing_price == 51.03",
            "execution_count": null,
            "outputs": []
        },
        {
            "metadata": {},
            "cell_type": "code",
            "source": "",
            "execution_count": null,
            "outputs": []
        },
        {
            "metadata": {},
            "cell_type": "code",
            "source": "# It's a regular class, so add new fields however you like!\nprice2.cosing_price = 75  # oops",
            "execution_count": null,
            "outputs": []
        },
        {
            "metadata": {},
            "cell_type": "code",
            "source": "",
            "execution_count": null,
            "outputs": []
        },
        {
            "metadata": {},
            "cell_type": "markdown",
            "source": "## Cleaning and Munging"
        },
        {
            "metadata": {},
            "cell_type": "code",
            "source": "",
            "execution_count": null,
            "outputs": []
        },
        {
            "metadata": {},
            "cell_type": "code",
            "source": "closing_price = float(row[2])",
            "execution_count": null,
            "outputs": []
        },
        {
            "metadata": {},
            "cell_type": "code",
            "source": "",
            "execution_count": null,
            "outputs": []
        },
        {
            "metadata": {},
            "cell_type": "code",
            "source": "from dateutil.parser import parse\n\ndef parse_row(row: List[str]) -> StockPrice:\n    symbol, date, closing_price = row\n    return StockPrice(symbol=symbol,\n                      date=parse(date).date(),\n                      closing_price=float(closing_price))\n\n# Now test our function\nstock = parse_row([\"MSFT\", \"2018-12-14\", \"106.03\"])\n\nassert stock.symbol == \"MSFT\"\nassert stock.date == datetime.date(2018, 12, 14)\nassert stock.closing_price == 106.03",
            "execution_count": null,
            "outputs": []
        },
        {
            "metadata": {},
            "cell_type": "code",
            "source": "",
            "execution_count": null,
            "outputs": []
        },
        {
            "metadata": {},
            "cell_type": "code",
            "source": "from typing import Optional\nimport re\n\ndef try_parse_row(row: List[str]) -> Optional[StockPrice]:\n    symbol, date_, closing_price_ = row\n\n    # Stock symbol should be all capital letters\n    if not re.match(r\"^[A-Z]+$\", symbol):\n        return None\n\n    try:\n        date = parse(date_).date()\n    except ValueError:\n        return None\n\n    try:\n        closing_price = float(closing_price_)\n    except ValueError:\n        return None\n\n    return StockPrice(symbol, date, closing_price)\n\n# Should return None for errors\nassert try_parse_row([\"MSFT0\", \"2018-12-14\", \"106.03\"]) is None\nassert try_parse_row([\"MSFT\", \"2018-12--14\", \"106.03\"]) is None\nassert try_parse_row([\"MSFT\", \"2018-12-14\", \"x\"]) is None\n\n# But should return same as before if data is good\nassert try_parse_row([\"MSFT\", \"2018-12-14\", \"106.03\"]) == stock",
            "execution_count": null,
            "outputs": []
        },
        {
            "metadata": {},
            "cell_type": "code",
            "source": "",
            "execution_count": null,
            "outputs": []
        },
        {
            "metadata": {},
            "cell_type": "code",
            "source": "import csv\n\ndata: List[StockPrice] = []\n\nwith open(\"comma_delimited_stock_prices.csv\") as f:\n    reader = csv.reader(f)\n    for row in reader:\n        maybe_stock = try_parse_row(row)\n        if maybe_stock is None:\n            print(f\"skipping invalid row: {row}\")\n        else:\n            data.append(maybe_stock)",
            "execution_count": null,
            "outputs": []
        },
        {
            "metadata": {},
            "cell_type": "code",
            "source": "",
            "execution_count": null,
            "outputs": []
        },
        {
            "metadata": {},
            "cell_type": "markdown",
            "source": "## Manipulating Data"
        },
        {
            "metadata": {},
            "cell_type": "code",
            "source": "",
            "execution_count": null,
            "outputs": []
        },
        {
            "metadata": {},
            "cell_type": "code",
            "source": "data = [\n    StockPrice(symbol='MSFT',\n               date=datetime.date(2018, 12, 24),\n               closing_price=106.03),\n    # ...\n]",
            "execution_count": null,
            "outputs": []
        },
        {
            "metadata": {},
            "cell_type": "code",
            "source": "",
            "execution_count": null,
            "outputs": []
        },
        {
            "metadata": {},
            "cell_type": "code",
            "source": "max_aapl_price = max(stock_price.closing_price\n                     for stock_price in data\n                     if stock_price.symbol == \"AAPL\")",
            "execution_count": null,
            "outputs": []
        },
        {
            "metadata": {},
            "cell_type": "code",
            "source": "",
            "execution_count": null,
            "outputs": []
        },
        {
            "metadata": {},
            "cell_type": "code",
            "source": "from collections import defaultdict\n\nmax_prices: Dict[str, float] = defaultdict(lambda: float('-inf'))\n\nfor sp in data:\n    symbol, closing_price = sp.symbol, sp.closing_price\n    if closing_price > max_prices[symbol]:\n        max_prices[symbol] = closing_price",
            "execution_count": null,
            "outputs": []
        },
        {
            "metadata": {},
            "cell_type": "code",
            "source": "",
            "execution_count": null,
            "outputs": []
        },
        {
            "metadata": {},
            "cell_type": "code",
            "source": "from typing import List\nfrom collections import defaultdict\n\n# Collect the prices by symbol\nprices: Dict[str, List[StockPrice]] = defaultdict(list)\n\nfor sp in data:\n    prices[sp.symbol].append(sp)",
            "execution_count": null,
            "outputs": []
        },
        {
            "metadata": {},
            "cell_type": "code",
            "source": "",
            "execution_count": null,
            "outputs": []
        },
        {
            "metadata": {},
            "cell_type": "code",
            "source": "# Order the prices by date\nprices = {symbol: sorted(symbol_prices)\n          for symbol, symbol_prices in prices.items()}",
            "execution_count": null,
            "outputs": []
        },
        {
            "metadata": {},
            "cell_type": "code",
            "source": "",
            "execution_count": null,
            "outputs": []
        },
        {
            "metadata": {},
            "cell_type": "code",
            "source": "def pct_change(yesterday: StockPrice, today: StockPrice) -> float:\n    return today.closing_price / yesterday.closing_price - 1\n\nclass DailyChange(NamedTuple):\n    symbol: str\n    date: datetime.date\n    pct_change: float\n\ndef day_over_day_changes(prices: List[StockPrice]) -> List[DailyChange]:\n    \"\"\"\n    Assumes prices are for one stock and are in order\n    \"\"\"\n    return [DailyChange(symbol=today.symbol,\n                        date=today.date,\n                        pct_change=pct_change(yesterday, today))\n            for yesterday, today in zip(prices, prices[1:])]",
            "execution_count": null,
            "outputs": []
        },
        {
            "metadata": {},
            "cell_type": "code",
            "source": "",
            "execution_count": null,
            "outputs": []
        },
        {
            "metadata": {},
            "cell_type": "code",
            "source": "all_changes = [change\n               for symbol_prices in prices.values()\n               for change in day_over_day_changes(symbol_prices)]",
            "execution_count": null,
            "outputs": []
        },
        {
            "metadata": {},
            "cell_type": "code",
            "source": "",
            "execution_count": null,
            "outputs": []
        },
        {
            "metadata": {},
            "cell_type": "code",
            "source": "max_change = max(all_changes, key=lambda change: change.pct_change)\n# see e.g. http://news.cnet.com/2100-1001-202143.html\nassert max_change.symbol == 'AAPL'\nassert max_change.date == datetime.date(1997, 8, 6)\nassert 0.33 < max_change.pct_change < 0.34\n\nmin_change = min(all_changes, key=lambda change: change.pct_change)\n# see e.g. http://money.cnn.com/2000/09/29/markets/techwrap/\nassert min_change.symbol == 'AAPL'\nassert min_change.date == datetime.date(2000, 9, 29)\nassert -0.52 < min_change.pct_change < -0.51",
            "execution_count": null,
            "outputs": []
        },
        {
            "metadata": {},
            "cell_type": "code",
            "source": "",
            "execution_count": null,
            "outputs": []
        },
        {
            "metadata": {},
            "cell_type": "code",
            "source": "changes_by_month: List[DailyChange] = {month: [] for month in range(1, 13)}\n\nfor change in all_changes:\n    changes_by_month[change.date.month].append(change)\n\navg_daily_change = {\n    month: sum(change.pct_change for change in changes) / len(changes)\n    for month, changes in changes_by_month.items()\n}\n\n# October is the best month\nassert avg_daily_change[10] == max(avg_daily_change.values())",
            "execution_count": null,
            "outputs": []
        },
        {
            "metadata": {},
            "cell_type": "code",
            "source": "",
            "execution_count": null,
            "outputs": []
        },
        {
            "metadata": {},
            "cell_type": "markdown",
            "source": "## Rescaling"
        },
        {
            "metadata": {},
            "cell_type": "code",
            "source": "from scratch.linear_algebra import distance\n\na_to_b = distance([63, 150], [67, 160])        # 10.77\na_to_c = distance([63, 150], [70, 171])        # 22.14\nb_to_c = distance([67, 160], [70, 171])        # 11.40",
            "execution_count": null,
            "outputs": []
        },
        {
            "metadata": {},
            "cell_type": "code",
            "source": "",
            "execution_count": null,
            "outputs": []
        },
        {
            "metadata": {},
            "cell_type": "code",
            "source": "a_to_b = distance([160, 150], [170.2, 160])    # 14.28\na_to_c = distance([160, 150], [177.8, 171])    # 27.53\nb_to_c = distance([170.2, 160], [177.8, 171])  # 13.37",
            "execution_count": null,
            "outputs": []
        },
        {
            "metadata": {},
            "cell_type": "code",
            "source": "",
            "execution_count": null,
            "outputs": []
        },
        {
            "metadata": {},
            "cell_type": "code",
            "source": "from typing import Tuple\n\nfrom scratch.linear_algebra import vector_mean\nfrom scratch.statistics import standard_deviation\n\ndef scale(data: List[Vector]) -> Tuple[Vector, Vector]:\n    \"\"\"returns the mean and standard deviation for each position\"\"\"\n    dim = len(data[0])\n\n    means = vector_mean(data)\n    stdevs = [standard_deviation([vector[i] for vector in data])\n              for i in range(dim)]\n\n    return means, stdevs\n\nvectors = [[-3, -1, 1], [-1, 0, 1], [1, 1, 1]]\nmeans, stdevs = scale(vectors)\nassert means == [-1, 0, 1]\nassert stdevs == [2, 1, 0]",
            "execution_count": null,
            "outputs": []
        },
        {
            "metadata": {},
            "cell_type": "code",
            "source": "",
            "execution_count": null,
            "outputs": []
        },
        {
            "metadata": {},
            "cell_type": "code",
            "source": "def rescale(data: List[Vector]) -> List[Vector]:\n    \"\"\"\n    Rescales the input data so that each position has\n    mean 0 and standard deviation 1. (Leaves a position\n    as is if its standard deviation is 0.)\n    \"\"\"\n    dim = len(data[0])\n    means, stdevs = scale(data)\n\n    # Make a copy of each vector\n    rescaled = [v[:] for v in data]\n\n    for v in rescaled:\n        for i in range(dim):\n            if stdevs[i] > 0:\n                v[i] = (v[i] - means[i]) / stdevs[i]\n\n    return rescaled",
            "execution_count": null,
            "outputs": []
        },
        {
            "metadata": {},
            "cell_type": "code",
            "source": "",
            "execution_count": null,
            "outputs": []
        },
        {
            "metadata": {},
            "cell_type": "code",
            "source": "means, stdevs = scale(rescale(vectors))\nassert means == [0, 0, 1]\nassert stdevs == [1, 1, 0]",
            "execution_count": null,
            "outputs": []
        },
        {
            "metadata": {},
            "cell_type": "code",
            "source": "",
            "execution_count": null,
            "outputs": []
        },
        {
            "metadata": {},
            "cell_type": "markdown",
            "source": "## An Aside: tqdm"
        },
        {
            "metadata": {},
            "cell_type": "code",
            "source": "!python -m pip install tqdm",
            "execution_count": null,
            "outputs": []
        },
        {
            "metadata": {},
            "cell_type": "code",
            "source": "",
            "execution_count": null,
            "outputs": []
        },
        {
            "metadata": {},
            "cell_type": "code",
            "source": "import tqdm\n\nfor i in tqdm.tqdm(range(100)):\n    # do something slow\n    _ = [random.random() for _ in range(1000000)]",
            "execution_count": null,
            "outputs": []
        },
        {
            "metadata": {},
            "cell_type": "code",
            "source": "",
            "execution_count": null,
            "outputs": []
        },
        {
            "metadata": {},
            "cell_type": "code",
            "source": "from typing import List\n\ndef primes_up_to(n: int) -> List[int]:\n    primes = [2]\n\n    with tqdm.trange(3, n) as t:\n        for i in t:\n            # i is prime if no smaller prime divides it\n            i_is_prime = not any(i % p == 0 for p in primes)\n            if i_is_prime:\n                primes.append(i)\n\n            t.set_description(f\"{len(primes)} primes\")\n\n    return primes\n\nmy_primes = primes_up_to(100_000)",
            "execution_count": null,
            "outputs": []
        },
        {
            "metadata": {},
            "cell_type": "code",
            "source": "",
            "execution_count": null,
            "outputs": []
        },
        {
            "metadata": {},
            "cell_type": "markdown",
            "source": "## Dimensionality Reduction"
        },
        {
            "metadata": {},
            "cell_type": "code",
            "source": "from scratch.linear_algebra import subtract\n\ndef de_mean(data: List[Vector]) -> List[Vector]:\n    \"\"\"Recenters the data to have mean 0 in every dimension\"\"\"\n    mean = vector_mean(data)\n    return [subtract(vector, mean) for vector in data]",
            "execution_count": null,
            "outputs": []
        },
        {
            "metadata": {},
            "cell_type": "code",
            "source": "",
            "execution_count": null,
            "outputs": []
        },
        {
            "metadata": {},
            "cell_type": "code",
            "source": "from scratch.linear_algebra import magnitude\n\ndef direction(w: Vector) -> Vector:\n    mag = magnitude(w)\n    return [w_i / mag for w_i in w]",
            "execution_count": null,
            "outputs": []
        },
        {
            "metadata": {},
            "cell_type": "code",
            "source": "",
            "execution_count": null,
            "outputs": []
        },
        {
            "metadata": {},
            "cell_type": "code",
            "source": "from scratch.linear_algebra import dot\n\ndef directional_variance(data: List[Vector], w: Vector) -> float:\n    \"\"\"\n    Returns the variance of x in the direction of w\n    \"\"\"\n    w_dir = direction(w)\n    return sum(dot(v, w_dir) ** 2 for v in data)",
            "execution_count": null,
            "outputs": []
        },
        {
            "metadata": {},
            "cell_type": "code",
            "source": "",
            "execution_count": null,
            "outputs": []
        },
        {
            "metadata": {},
            "cell_type": "code",
            "source": "def directional_variance_gradient(data: List[Vector], w: Vector) -> Vector:\n    \"\"\"\n    The gradient of directional variance with respect to w\n    \"\"\"\n    w_dir = direction(w)\n    return [sum(2 * dot(v, w_dir) * v[i] for v in data)\n            for i in range(len(w))]",
            "execution_count": null,
            "outputs": []
        },
        {
            "metadata": {},
            "cell_type": "code",
            "source": "",
            "execution_count": null,
            "outputs": []
        },
        {
            "metadata": {},
            "cell_type": "code",
            "source": "from scratch.gradient_descent import gradient_step\n\ndef first_principal_component(data: List[Vector],\n                              n: int = 100,\n                              step_size: float = 0.1) -> Vector:\n    # Start with a random guess\n    guess = [1.0 for _ in data[0]]\n\n    with tqdm.trange(n) as t:\n        for _ in t:\n            dv = directional_variance(data, guess)\n            gradient = directional_variance_gradient(data, guess)\n            guess = gradient_step(guess, gradient, step_size)\n            t.set_description(f\"dv: {dv:.3f}\")\n\n    return direction(guess)",
            "execution_count": null,
            "outputs": []
        },
        {
            "metadata": {},
            "cell_type": "code",
            "source": "",
            "execution_count": null,
            "outputs": []
        },
        {
            "metadata": {},
            "cell_type": "code",
            "source": "from scratch.linear_algebra import scalar_multiply\n\ndef project(v: Vector, w: Vector) -> Vector:\n    \"\"\"return the projection of v onto the direction w\"\"\"\n    projection_length = dot(v, w)\n    return scalar_multiply(projection_length, w)",
            "execution_count": null,
            "outputs": []
        },
        {
            "metadata": {},
            "cell_type": "code",
            "source": "",
            "execution_count": null,
            "outputs": []
        },
        {
            "metadata": {},
            "cell_type": "code",
            "source": "from scratch.linear_algebra import subtract\n\ndef remove_projection_from_vector(v: Vector, w: Vector) -> Vector:\n    \"\"\"projects v onto w and subtracts the result from v\"\"\"\n    return subtract(v, project(v, w))\n\ndef remove_projection(data: List[Vector], w: Vector) -> List[Vector]:\n    return [remove_projection_from_vector(v, w) for v in data]",
            "execution_count": null,
            "outputs": []
        },
        {
            "metadata": {},
            "cell_type": "code",
            "source": "",
            "execution_count": null,
            "outputs": []
        },
        {
            "metadata": {},
            "cell_type": "code",
            "source": "def pca(data: List[Vector], num_components: int) -> List[Vector]:\n    components: List[Vector] = []\n    for _ in range(num_components):\n        component = first_principal_component(data)\n        components.append(component)\n        data = remove_projection(data, component)\n\n    return components",
            "execution_count": null,
            "outputs": []
        },
        {
            "metadata": {},
            "cell_type": "code",
            "source": "",
            "execution_count": null,
            "outputs": []
        },
        {
            "metadata": {},
            "cell_type": "code",
            "source": "def transform_vector(v: Vector, components: List[Vector]) -> Vector:\n    return [dot(v, w) for w in components]\n\ndef transform(data: List[Vector], components: List[Vector]) -> List[Vector]:\n    return [transform_vector(v, components) for v in data]",
            "execution_count": null,
            "outputs": []
        },
        {
            "metadata": {},
            "cell_type": "code",
            "source": "",
            "execution_count": null,
            "outputs": []
        },
        {
            "metadata": {},
            "cell_type": "code",
            "source": "",
            "execution_count": null,
            "outputs": []
        },
        {
            "metadata": {},
            "cell_type": "code",
            "source": "",
            "execution_count": null,
            "outputs": []
        },
        {
            "metadata": {},
            "cell_type": "code",
            "source": "",
            "execution_count": null,
            "outputs": []
        }
    ],
    "metadata": {
        "kernelspec": {
            "name": "python3",
            "display_name": "Python 3.6",
            "language": "python"
        },
        "language_info": {
            "name": "python",
            "version": "3.6.9",
            "mimetype": "text/x-python",
            "codemirror_mode": {
                "name": "ipython",
                "version": 3
            },
            "pygments_lexer": "ipython3",
            "nbconvert_exporter": "python",
            "file_extension": ".py"
        }
    },
    "nbformat": 4,
    "nbformat_minor": 1
}