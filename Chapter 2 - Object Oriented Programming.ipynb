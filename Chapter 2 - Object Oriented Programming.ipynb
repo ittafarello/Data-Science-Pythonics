{
    "cells": [
        {
            "metadata": {
                "collapsed": true
            },
            "cell_type": "code",
            "source": "",
            "execution_count": null,
            "outputs": []
        },
        {
            "metadata": {},
            "cell_type": "code",
            "source": "class CountingClicker:\n    \n    def __init__(self, count = 0):\n        self.count = count\n\n    def __repr__(self):\n        return f\"CountingClicker(count={self.count})\"\n    \n    def click(self, num_times = 1):\n        \"\"\"Click the clicker some number of times.\"\"\"\n        self.count += num_times\n\n    def read(self):\n        return self.count\n\n    def reset(self):\n        self.count = 0",
            "execution_count": 9,
            "outputs": []
        },
        {
            "metadata": {},
            "cell_type": "code",
            "source": "clicker1 = CountingClicker()           # initialized to 0\nprint(clicker1.count)",
            "execution_count": 10,
            "outputs": [
                {
                    "output_type": "stream",
                    "text": "0\n",
                    "name": "stdout"
                }
            ]
        },
        {
            "metadata": {},
            "cell_type": "code",
            "source": "clicker2 = CountingClicker(100)        # starts with count=100\nprint(clicker2.count)",
            "execution_count": 11,
            "outputs": [
                {
                    "output_type": "stream",
                    "text": "100\n",
                    "name": "stdout"
                }
            ]
        },
        {
            "metadata": {},
            "cell_type": "code",
            "source": "clicker3 = CountingClicker(count=100)  # more explicit way of doing the same\nprint(clicker3.count)",
            "execution_count": 12,
            "outputs": [
                {
                    "output_type": "stream",
                    "text": "100\n",
                    "name": "stdout"
                }
            ]
        },
        {
            "metadata": {},
            "cell_type": "code",
            "source": "print(clicker3.read())",
            "execution_count": 15,
            "outputs": [
                {
                    "output_type": "stream",
                    "text": "100\n",
                    "name": "stdout"
                }
            ]
        },
        {
            "metadata": {},
            "cell_type": "code",
            "source": "clicker = CountingClicker()\n",
            "execution_count": 16,
            "outputs": []
        },
        {
            "metadata": {},
            "cell_type": "code",
            "source": "assert clicker.read() == 0, \"clicker should start with count 0\"\n",
            "execution_count": 24,
            "outputs": []
        },
        {
            "metadata": {},
            "cell_type": "code",
            "source": "clicker.click()\n",
            "execution_count": 18,
            "outputs": []
        },
        {
            "metadata": {},
            "cell_type": "code",
            "source": "clicker.click()\n",
            "execution_count": 19,
            "outputs": []
        },
        {
            "metadata": {},
            "cell_type": "code",
            "source": "assert clicker.read() == 2, \"after two clicks, clicker should have count 2\"\n",
            "execution_count": 20,
            "outputs": []
        },
        {
            "metadata": {},
            "cell_type": "code",
            "source": "clicker.reset()\n",
            "execution_count": 21,
            "outputs": []
        },
        {
            "metadata": {},
            "cell_type": "code",
            "source": "assert clicker.read() == 0, \"after reset, clicker should be back to 0\"",
            "execution_count": 22,
            "outputs": []
        },
        {
            "metadata": {},
            "cell_type": "code",
            "source": "",
            "execution_count": null,
            "outputs": []
        },
        {
            "metadata": {},
            "cell_type": "code",
            "source": "",
            "execution_count": null,
            "outputs": []
        }
    ],
    "metadata": {
        "kernelspec": {
            "name": "python3",
            "display_name": "Python 3.6",
            "language": "python"
        },
        "language_info": {
            "name": "python",
            "version": "3.6.9",
            "mimetype": "text/x-python",
            "codemirror_mode": {
                "name": "ipython",
                "version": 3
            },
            "pygments_lexer": "ipython3",
            "nbconvert_exporter": "python",
            "file_extension": ".py"
        }
    },
    "nbformat": 4,
    "nbformat_minor": 1
}