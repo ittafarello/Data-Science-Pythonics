{
    "cells": [
        {
            "metadata": {},
            "cell_type": "code",
            "source": "import random\n# we are using the inline backend\n%matplotlib inline \n\nimport matplotlib as mpl\nimport matplotlib.pyplot as plt",
            "execution_count": 5,
            "outputs": []
        },
        {
            "metadata": {},
            "cell_type": "code",
            "source": "num_friends = [random.choice(range(300)) for _ in range(100)]",
            "execution_count": 6,
            "outputs": []
        },
        {
            "metadata": {},
            "cell_type": "code",
            "source": "from collections import Counter\n\nfriend_counts = Counter(num_friends)\nxs = range(101)                         # largest value is 100\nys = [friend_counts[x] for x in xs]     # height is just # of friends\nplt.bar(xs, ys)\nplt.axis([0, 101, 0, 25])\nplt.title(\"Histogram of Friend Counts\")\nplt.xlabel(\"# of friends\")\nplt.ylabel(\"# of people\")\nplt.show()",
            "execution_count": 7,
            "outputs": [
                {
                    "output_type": "display_data",
                    "data": {
                        "text/plain": "<Figure size 432x288 with 1 Axes>",
                        "image/png": "[encoded data removed]"
                    },
                    "metadata": {
                        "needs_background": "light"
                    }
                }
            ]
        },
        {
            "metadata": {},
            "cell_type": "code",
            "source": "num_points = len(num_friends) ",
            "execution_count": null,
            "outputs": []
        },
        {
            "metadata": {},
            "cell_type": "code",
            "source": "largest_value = max(num_friends)            # 100\nsmallest_value = min(num_friends)           # 1",
            "execution_count": null,
            "outputs": []
        },
        {
            "metadata": {},
            "cell_type": "code",
            "source": "sorted_values = sorted(num_friends)\nsmallest_value = sorted_values[0]           # 1\nsecond_smallest_value = sorted_values[1]    # 1\nsecond_largest_value = sorted_values[-2]    # 49",
            "execution_count": null,
            "outputs": []
        },
        {
            "metadata": {},
            "cell_type": "code",
            "source": "",
            "execution_count": null,
            "outputs": []
        },
        {
            "metadata": {},
            "cell_type": "code",
            "source": "def mean(xs: List[float]) -> float:\n    return sum(xs) / len(xs)",
            "execution_count": null,
            "outputs": []
        },
        {
            "metadata": {},
            "cell_type": "code",
            "source": "mean(num_friends)   # 7.333333",
            "execution_count": null,
            "outputs": []
        },
        {
            "metadata": {},
            "cell_type": "code",
            "source": "",
            "execution_count": null,
            "outputs": []
        },
        {
            "metadata": {},
            "cell_type": "code",
            "source": "# The underscores indicate that these are \"private\" functions, as they're\n# intended to be called by our median function but not by other people\n# using our statistics library.\ndef _median_odd(xs: List[float]) -> float:\n    \"\"\"If len(xs) is odd, the median is the middle element\"\"\"\n    return sorted(xs)[len(xs) // 2]\n\ndef _median_even(xs: List[float]) -> float:\n    \"\"\"If len(xs) is even, it's the average of the middle two elements\"\"\"\n    sorted_xs = sorted(xs)\n    hi_midpoint = len(xs) // 2  # e.g. length 4 => hi_midpoint 2\n    return (sorted_xs[hi_midpoint - 1] + sorted_xs[hi_midpoint]) / 2\n\ndef median(v: List[float]) -> float:\n    \"\"\"Finds the 'middle-most' value of v\"\"\"\n    return _median_even(v) if len(v) % 2 == 0 else _median_odd(v)\n\nassert median([1, 10, 2, 9, 5]) == 5\nassert median([1, 9, 2, 10]) == (2 + 9) / 2",
            "execution_count": null,
            "outputs": []
        },
        {
            "metadata": {},
            "cell_type": "code",
            "source": "",
            "execution_count": null,
            "outputs": []
        },
        {
            "metadata": {},
            "cell_type": "code",
            "source": "print(median(num_friends))  # 6",
            "execution_count": null,
            "outputs": []
        },
        {
            "metadata": {},
            "cell_type": "code",
            "source": "",
            "execution_count": null,
            "outputs": []
        },
        {
            "metadata": {},
            "cell_type": "code",
            "source": "def quantile(xs: List[float], p: float) -> float:\n    \"\"\"Returns the pth-percentile value in x\"\"\"\n    p_index = int(p * len(xs))\n    return sorted(xs)[p_index]\n\nassert quantile(num_friends, 0.10) == 1\nassert quantile(num_friends, 0.25) == 3\nassert quantile(num_friends, 0.75) == 9\nassert quantile(num_friends, 0.90) == 13",
            "execution_count": null,
            "outputs": []
        },
        {
            "metadata": {},
            "cell_type": "code",
            "source": "",
            "execution_count": null,
            "outputs": []
        },
        {
            "metadata": {},
            "cell_type": "code",
            "source": "def mode(x: List[float]) -> List[float]:\n    \"\"\"Returns a list, since there might be more than one mode\"\"\"\n    counts = Counter(x)\n    max_count = max(counts.values())\n    return [x_i for x_i, count in counts.items()\n            if count == max_count]\n\nassert set(mode(num_friends)) == {1, 6}",
            "execution_count": null,
            "outputs": []
        },
        {
            "metadata": {},
            "cell_type": "code",
            "source": "",
            "execution_count": null,
            "outputs": []
        },
        {
            "metadata": {},
            "cell_type": "code",
            "source": "# \"range\" already means something in Python, so we'll use a different name\ndef data_range(xs: List[float]) -> float:\n    return max(xs) - min(xs)\n\nassert data_range(num_friends) == 99",
            "execution_count": null,
            "outputs": []
        },
        {
            "metadata": {},
            "cell_type": "code",
            "source": "",
            "execution_count": null,
            "outputs": []
        },
        {
            "metadata": {},
            "cell_type": "code",
            "source": "rom scratch.linear_algebra import sum_of_squares\n\ndef de_mean(xs: List[float]) -> List[float]:\n    \"\"\"Translate xs by subtracting its mean (so the result has mean 0)\"\"\"\n    x_bar = mean(xs)\n    return [x - x_bar for x in xs]\n\ndef variance(xs: List[float]) -> float:\n    \"\"\"Almost the average squared deviation from the mean\"\"\"\n    assert len(xs) >= 2, \"variance requires at least two elements\"\n\n    n = len(xs)\n    deviations = de_mean(xs)\n    return sum_of_squares(deviations) / (n - 1)\n\nassert 81.54 < variance(num_friends) < 81.55",
            "execution_count": null,
            "outputs": []
        },
        {
            "metadata": {},
            "cell_type": "code",
            "source": "",
            "execution_count": null,
            "outputs": []
        },
        {
            "metadata": {},
            "cell_type": "code",
            "source": "import math\n\ndef standard_deviation(xs: List[float]) -> float:\n    \"\"\"The standard deviation is the square root of the variance\"\"\"\n    return math.sqrt(variance(xs))\n\nassert 9.02 < standard_deviation(num_friends) < 9.04",
            "execution_count": null,
            "outputs": []
        },
        {
            "metadata": {},
            "cell_type": "markdown",
            "source": ""
        },
        {
            "metadata": {},
            "cell_type": "code",
            "source": "def interquartile_range(xs: List[float]) -> float:\n    \"\"\"Returns the difference between the 75%-ile and the 25%-ile\"\"\"\n    return quantile(xs, 0.75) - quantile(xs, 0.25)\n\nassert interquartile_range(num_friends) == 6",
            "execution_count": null,
            "outputs": []
        },
        {
            "metadata": {},
            "cell_type": "markdown",
            "source": "## Correlation"
        },
        {
            "metadata": {},
            "cell_type": "code",
            "source": "from scratch.linear_algebra import dot\n\ndef covariance(xs: List[float], ys: List[float]) -> float:\n    assert len(xs) == len(ys), \"xs and ys must have same number of elements\"\n\n    return dot(de_mean(xs), de_mean(ys)) / (len(xs) - 1)\n\nassert 22.42 < covariance(num_friends, daily_minutes) < 22.43\nassert 22.42 / 60 < covariance(num_friends, daily_hours) < 22.43 / 60",
            "execution_count": null,
            "outputs": []
        },
        {
            "metadata": {},
            "cell_type": "code",
            "source": "",
            "execution_count": null,
            "outputs": []
        },
        {
            "metadata": {},
            "cell_type": "code",
            "source": "def correlation(xs: List[float], ys: List[float]) -> float:\n    \"\"\"Measures how much xs and ys vary in tandem about their means\"\"\"\n    stdev_x = standard_deviation(xs)\n    stdev_y = standard_deviation(ys)\n    if stdev_x > 0 and stdev_y > 0:\n        return covariance(xs, ys) / stdev_x / stdev_y\n    else:\n        return 0    # if no variation, correlation is zero\n\nassert 0.24 < correlation(num_friends, daily_minutes) < 0.25\nassert 0.24 < correlation(num_friends, daily_hours) < 0.25",
            "execution_count": null,
            "outputs": []
        },
        {
            "metadata": {},
            "cell_type": "code",
            "source": "",
            "execution_count": null,
            "outputs": []
        },
        {
            "metadata": {},
            "cell_type": "code",
            "source": "outlier = num_friends.index(100)    # index of outlier\n\nnum_friends_good = [x\n                    for i, x in enumerate(num_friends)\n                    if i != outlier]\n\ndaily_minutes_good = [x\n                      for i, x in enumerate(daily_minutes)\n                      if i != outlier]\n\ndaily_hours_good = [dm / 60 for dm in daily_minutes_good]\n\nassert 0.57 < correlation(num_friends_good, daily_minutes_good) < 0.58\nassert 0.57 < correlation(num_friends_good, daily_hours_good) < 0.58",
            "execution_count": null,
            "outputs": []
        },
        {
            "metadata": {},
            "cell_type": "code",
            "source": "",
            "execution_count": null,
            "outputs": []
        },
        {
            "metadata": {},
            "cell_type": "markdown",
            "source": "## Simpson\u2019s Paradox"
        },
        {
            "metadata": {},
            "cell_type": "code",
            "source": "",
            "execution_count": null,
            "outputs": []
        },
        {
            "metadata": {},
            "cell_type": "markdown",
            "source": "- https://open.umn.edu/opentextbooks/textbooks/introductory-statistics\n- http://onlinestatbook.com/\n- https://openstax.org/details/introductory-statistics\n- https://www.statsmodels.org/stable/index.html"
        },
        {
            "metadata": {},
            "cell_type": "code",
            "source": "",
            "execution_count": null,
            "outputs": []
        },
        {
            "metadata": {},
            "cell_type": "code",
            "source": "",
            "execution_count": null,
            "outputs": []
        }
    ],
    "metadata": {
        "kernelspec": {
            "name": "python3",
            "display_name": "Python 3.6",
            "language": "python"
        },
        "language_info": {
            "name": "python",
            "version": "3.6.9",
            "mimetype": "text/x-python",
            "codemirror_mode": {
                "name": "ipython",
                "version": 3
            },
            "pygments_lexer": "ipython3",
            "nbconvert_exporter": "python",
            "file_extension": ".py"
        }
    },
    "nbformat": 4,
    "nbformat_minor": 1
}