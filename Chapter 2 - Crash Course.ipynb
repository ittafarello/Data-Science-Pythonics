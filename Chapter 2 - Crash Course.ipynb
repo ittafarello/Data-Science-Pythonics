{
    "cells": [
        {
            "metadata": {},
            "cell_type": "code",
            "source": "tweet = {\n    \"user\" : \"joelgrus\",\n    \"text\" : \"Data Science is Awesome\",\n    \"retweet_count\" : 100,\n    \"hashtags\" : [\"#data\", \"#science\", \"#datascience\", \"#awesome\", \"#yolo\"]\n}",
            "execution_count": 1,
            "outputs": []
        },
        {
            "metadata": {},
            "cell_type": "code",
            "source": "tweet",
            "execution_count": 2,
            "outputs": [
                {
                    "output_type": "execute_result",
                    "execution_count": 2,
                    "data": {
                        "text/plain": "{'user': 'joelgrus',\n 'text': 'Data Science is Awesome',\n 'retweet_count': 100,\n 'hashtags': ['#data', '#science', '#datascience', '#awesome', '#yolo']}"
                    },
                    "metadata": {}
                }
            ]
        },
        {
            "metadata": {},
            "cell_type": "markdown",
            "source": "## Slicing the dictionary"
        },
        {
            "metadata": {},
            "cell_type": "code",
            "source": "tweet[\"hashtags\"]",
            "execution_count": 5,
            "outputs": [
                {
                    "output_type": "execute_result",
                    "execution_count": 5,
                    "data": {
                        "text/plain": "['#data', '#science', '#datascience', '#awesome', '#yolo']"
                    },
                    "metadata": {}
                }
            ]
        },
        {
            "metadata": {},
            "cell_type": "code",
            "source": "tweet[\"hashtags\"][:3]",
            "execution_count": 6,
            "outputs": [
                {
                    "output_type": "execute_result",
                    "execution_count": 6,
                    "data": {
                        "text/plain": "['#data', '#science', '#datascience']"
                    },
                    "metadata": {}
                }
            ]
        },
        {
            "metadata": {},
            "cell_type": "code",
            "source": "tweet[\"hashtags\"][::2]",
            "execution_count": 7,
            "outputs": [
                {
                    "output_type": "execute_result",
                    "execution_count": 7,
                    "data": {
                        "text/plain": "['#data', '#datascience', '#yolo']"
                    },
                    "metadata": {}
                }
            ]
        },
        {
            "metadata": {},
            "cell_type": "code",
            "source": "tweet[\"hashtags\"][-2]",
            "execution_count": 8,
            "outputs": [
                {
                    "output_type": "execute_result",
                    "execution_count": 8,
                    "data": {
                        "text/plain": "'#awesome'"
                    },
                    "metadata": {}
                }
            ]
        },
        {
            "metadata": {},
            "cell_type": "code",
            "source": "tweet[\"hashtags\"][-3:]",
            "execution_count": 13,
            "outputs": [
                {
                    "output_type": "execute_result",
                    "execution_count": 13,
                    "data": {
                        "text/plain": "['#datascience', '#awesome', '#yolo']"
                    },
                    "metadata": {}
                }
            ]
        },
        {
            "metadata": {},
            "cell_type": "code",
            "source": "tweet[\"hashtags\"][-3:-1]",
            "execution_count": 21,
            "outputs": [
                {
                    "output_type": "execute_result",
                    "execution_count": 21,
                    "data": {
                        "text/plain": "['#datascience', '#awesome']"
                    },
                    "metadata": {}
                }
            ]
        },
        {
            "metadata": {},
            "cell_type": "code",
            "source": "tweet[\"hashtags\"][0]",
            "execution_count": 22,
            "outputs": [
                {
                    "output_type": "execute_result",
                    "execution_count": 22,
                    "data": {
                        "text/plain": "'#data'"
                    },
                    "metadata": {}
                }
            ]
        },
        {
            "metadata": {},
            "cell_type": "markdown",
            "source": "## Dictionary Key, Values, items"
        },
        {
            "metadata": {},
            "cell_type": "code",
            "source": "tweet_keys   = tweet.keys()     # iterable for the keys\ntweet_keys",
            "execution_count": 23,
            "outputs": [
                {
                    "output_type": "execute_result",
                    "execution_count": 23,
                    "data": {
                        "text/plain": "dict_keys(['user', 'text', 'retweet_count', 'hashtags'])"
                    },
                    "metadata": {}
                }
            ]
        },
        {
            "metadata": {},
            "cell_type": "code",
            "source": "tweet_values = tweet.values()   # iterable for the values\ntweet_values",
            "execution_count": 24,
            "outputs": [
                {
                    "output_type": "execute_result",
                    "execution_count": 24,
                    "data": {
                        "text/plain": "dict_values(['joelgrus', 'Data Science is Awesome', 100, ['#data', '#science', '#datascience', '#awesome', '#yolo']])"
                    },
                    "metadata": {}
                }
            ]
        },
        {
            "metadata": {},
            "cell_type": "code",
            "source": "tweet_items  = tweet.items()    # iterable for the (key, value) tuples\ntweet_items",
            "execution_count": 25,
            "outputs": [
                {
                    "output_type": "execute_result",
                    "execution_count": 25,
                    "data": {
                        "text/plain": "dict_items([('user', 'joelgrus'), ('text', 'Data Science is Awesome'), ('retweet_count', 100), ('hashtags', ['#data', '#science', '#datascience', '#awesome', '#yolo'])])"
                    },
                    "metadata": {}
                }
            ]
        },
        {
            "metadata": {},
            "cell_type": "markdown",
            "source": "## Two different ways to achieve the same results"
        },
        {
            "metadata": {},
            "cell_type": "code",
            "source": "document=\"It is a collection of beliefs and theory that together rationalize the trade-offs and compromises societes make-play a crucial role\\n\"\ndocument+=\"A ideology shapes the way a society is organized and therefore informs the arguments for an \\\"inequality regime\\\" \"",
            "execution_count": 26,
            "outputs": []
        },
        {
            "metadata": {},
            "cell_type": "code",
            "source": "letter_counts = {}\nfor letter in document:\n    if letter in letter_counts:\n        letter_counts[letter] += 1\n    else:\n        letter_counts[letter] = 1",
            "execution_count": 31,
            "outputs": []
        },
        {
            "metadata": {},
            "cell_type": "code",
            "source": "print(letter_counts)",
            "execution_count": 32,
            "outputs": [
                {
                    "output_type": "stream",
                    "text": "{'I': 1, 't': 17, ' ': 37, 'i': 16, 's': 13, 'a': 19, 'c': 7, 'o': 18, 'l': 9, 'e': 27, 'n': 10, 'f': 7, 'b': 1, 'd': 6, 'h': 8, 'r': 14, 'y': 6, 'g': 5, 'z': 2, '-': 2, 'm': 6, 'p': 3, 'k': 1, 'u': 3, '\\n': 1, 'A': 1, 'w': 1, '\"': 2, 'q': 1}\n",
                    "name": "stdout"
                }
            ]
        },
        {
            "metadata": {},
            "cell_type": "code",
            "source": "",
            "execution_count": null,
            "outputs": []
        },
        {
            "metadata": {},
            "cell_type": "code",
            "source": "letter_counts = {}\n# iterate of each letter in the document\nfor letter in document:\n    # get the count from previous iteration, if the letter is not found then return 0\n    previous_count = letter_counts.get(letter, 0)\n    # the letter will be the index for the list\n    letter_counts[letter] = previous_count + 1",
            "execution_count": 35,
            "outputs": [
                {
                    "output_type": "stream",
                    "text": "0\n0\n0\n0\n0\n1\n0\n2\n0\n0\n0\n1\n0\n1\n1\n1\n1\n0\n3\n2\n0\n4\n0\n1\n2\n2\n2\n1\n1\n5\n1\n1\n0\n6\n2\n0\n3\n3\n0\n0\n7\n3\n1\n2\n4\n8\n5\n4\n0\n4\n6\n2\n5\n1\n9\n2\n3\n7\n3\n5\n2\n4\n3\n4\n0\n6\n10\n8\n3\n7\n11\n9\n3\n5\n1\n8\n0\n6\n2\n3\n2\n12\n6\n3\n2\n13\n2\n7\n0\n0\n4\n8\n1\n5\n3\n9\n4\n14\n5\n9\n3\n6\n10\n10\n11\n6\n15\n2\n7\n0\n12\n1\n1\n4\n8\n1\n16\n9\n17\n4\n5\n0\n5\n7\n10\n5\n18\n6\n10\n6\n13\n0\n0\n19\n8\n3\n14\n11\n7\n12\n1\n2\n20\n7\n4\n11\n2\n15\n8\n21\n11\n5\n16\n22\n0\n12\n3\n23\n13\n24\n9\n13\n6\n9\n17\n12\n4\n25\n10\n10\n26\n14\n7\n2\n14\n4\n11\n1\n18\n4\n27\n15\n5\n5\n28\n13\n6\n19\n8\n20\n4\n15\n9\n21\n29\n12\n6\n5\n16\n10\n3\n11\n30\n14\n7\n22\n31\n16\n11\n3\n1\n4\n23\n7\n15\n12\n32\n6\n17\n12\n33\n17\n8\n34\n0\n13\n9\n24\n0\n2\n18\n8\n14\n16\n5\n35\n13\n25\n4\n15\n5\n26\n1\n36\n",
                    "name": "stdout"
                }
            ]
        },
        {
            "metadata": {},
            "cell_type": "code",
            "source": "print(letter_counts)",
            "execution_count": 34,
            "outputs": [
                {
                    "output_type": "stream",
                    "text": "{'I': 1, 't': 17, ' ': 37, 'i': 16, 's': 13, 'a': 19, 'c': 7, 'o': 18, 'l': 9, 'e': 27, 'n': 10, 'f': 7, 'b': 1, 'd': 6, 'h': 8, 'r': 14, 'y': 6, 'g': 5, 'z': 2, '-': 2, 'm': 6, 'p': 3, 'k': 1, 'u': 3, '\\n': 1, 'A': 1, 'w': 1, '\"': 2, 'q': 1}\n",
                    "name": "stdout"
                }
            ]
        },
        {
            "metadata": {},
            "cell_type": "markdown",
            "source": "## Initialize empty list, dict, pair"
        },
        {
            "metadata": {},
            "cell_type": "code",
            "source": "from collections import defaultdict",
            "execution_count": 36,
            "outputs": []
        },
        {
            "metadata": {},
            "cell_type": "code",
            "source": "dd_list = defaultdict(list)             # list() produces an empty list\ndd_list[2].append(1)                    # now dd_list contains {2: [1]}\n\nprint(dd_list)                 ",
            "execution_count": 37,
            "outputs": [
                {
                    "output_type": "stream",
                    "text": "defaultdict(<class 'list'>, {2: [1]})\n",
                    "name": "stdout"
                }
            ]
        },
        {
            "metadata": {},
            "cell_type": "code",
            "source": "dd_dict = defaultdict(dict)             # dict() produces an empty dict\ndd_dict[\"Joel\"][\"City\"] = \"Seattle\"     # {\"Joel\" : {\"City\": Seattle\"}}\n\nprint(dd_dict) ",
            "execution_count": 38,
            "outputs": [
                {
                    "output_type": "stream",
                    "text": "defaultdict(<class 'dict'>, {'Joel': {'City': 'Seattle'}})\n",
                    "name": "stdout"
                }
            ]
        },
        {
            "metadata": {
                "tags": [
                    "lambda",
                    "dictionary"
                ]
            },
            "cell_type": "code",
            "source": "dd_pair = defaultdict(lambda: [0, 0])  # now dd_pair contains {2: [0, 1]}\ndd_pair[2][1] = 1   \n\nprint(dd_pair) ",
            "execution_count": 39,
            "outputs": [
                {
                    "output_type": "stream",
                    "text": "defaultdict(<function <lambda> at 0x7fca2c6fbbf8>, {2: [0, 1]})\n",
                    "name": "stdout"
                }
            ]
        },
        {
            "metadata": {},
            "cell_type": "markdown",
            "source": "## Counter"
        },
        {
            "metadata": {},
            "cell_type": "code",
            "source": "from collections import Counter",
            "execution_count": 40,
            "outputs": []
        },
        {
            "metadata": {},
            "cell_type": "code",
            "source": "c = Counter([0, 1, 2, 0])          # c is (basically) {0: 2, 1: 1, 2: 1}",
            "execution_count": 41,
            "outputs": []
        },
        {
            "metadata": {},
            "cell_type": "code",
            "source": "print(c)",
            "execution_count": 42,
            "outputs": [
                {
                    "output_type": "stream",
                    "text": "Counter({0: 2, 1: 1, 2: 1})\n",
                    "name": "stdout"
                }
            ]
        },
        {
            "metadata": {},
            "cell_type": "markdown",
            "source": "## Count Letter more effectivelly"
        },
        {
            "metadata": {
                "tags": [
                    "counter"
                ]
            },
            "cell_type": "code",
            "source": "letter_counts = Counter(document)",
            "execution_count": 45,
            "outputs": []
        },
        {
            "metadata": {},
            "cell_type": "code",
            "source": "print(letter_counts)",
            "execution_count": 46,
            "outputs": [
                {
                    "output_type": "stream",
                    "text": "Counter({' ': 37, 'e': 27, 'a': 19, 'o': 18, 't': 17, 'i': 16, 'r': 14, 's': 13, 'n': 10, 'l': 9, 'h': 8, 'c': 7, 'f': 7, 'd': 6, 'y': 6, 'm': 6, 'g': 5, 'p': 3, 'u': 3, 'z': 2, '-': 2, '\"': 2, 'I': 1, 'b': 1, 'k': 1, '\\n': 1, 'A': 1, 'w': 1, 'q': 1})\n",
                    "name": "stdout"
                }
            ]
        },
        {
            "metadata": {},
            "cell_type": "markdown",
            "source": "### Print the 10 most common words and their counts"
        },
        {
            "metadata": {},
            "cell_type": "code",
            "source": "for word, count in word_counts.most_common(10):\n    print(word, count)",
            "execution_count": 47,
            "outputs": [
                {
                    "output_type": "stream",
                    "text": "  37\ne 27\na 19\no 18\nt 17\ni 16\nr 14\ns 13\nn 10\nl 9\n",
                    "name": "stdout"
                }
            ]
        },
        {
            "metadata": {},
            "cell_type": "markdown",
            "source": "## Sets\nAnother useful data structure is set, which represents a collection of distinct elements. You can define a set by listing its elements between curly braces:"
        },
        {
            "metadata": {},
            "cell_type": "code",
            "source": "hundreds_of_other_words = [\"itamar\",\"antonio\",\"tafarello\"]\nstopwords_list = [\"a\", \"an\", \"at\"] + hundreds_of_other_words + [\"yet\", \"you\",\"an\"]\n\n\"zip\" in stopwords_list     # False, but have to check every element\nprint(stopwords_list)",
            "execution_count": 56,
            "outputs": [
                {
                    "output_type": "stream",
                    "text": "['a', 'an', 'at', 'itamar', 'antonio', 'tafarello', 'yet', 'you', 'an']\n",
                    "name": "stdout"
                }
            ]
        },
        {
            "metadata": {},
            "cell_type": "markdown",
            "source": "### Notice the \"an\" shows up only once now"
        },
        {
            "metadata": {
                "tags": [
                    "set"
                ]
            },
            "cell_type": "code",
            "source": "stopwords_set = set(stopwords_list)\n\"zip\" in stopwords_set      # very fast to check\nprint(stopwords_set)",
            "execution_count": 58,
            "outputs": [
                {
                    "output_type": "stream",
                    "text": "{'tafarello', 'an', 'a', 'itamar', 'you', 'yet', 'antonio', 'at'}\n",
                    "name": "stdout"
                }
            ]
        },
        {
            "metadata": {},
            "cell_type": "code",
            "source": "",
            "execution_count": null,
            "outputs": []
        },
        {
            "metadata": {},
            "cell_type": "markdown",
            "source": "### Inline controlf low"
        },
        {
            "metadata": {
                "tags": [
                    "inline_if"
                ]
            },
            "cell_type": "code",
            "source": "x = 2\nparity = \"even\" if x % 2 == 0 else \"odd\"\nprint(parity)",
            "execution_count": 62,
            "outputs": [
                {
                    "output_type": "stream",
                    "text": "even\n",
                    "name": "stdout"
                }
            ]
        },
        {
            "metadata": {},
            "cell_type": "code",
            "source": "for x in range(10):\n    if x == 3:\n        print(\"continue to the next iteration\")\n        continue  # go immediately to the next iteration\n    if x == 5:\n        print(\"break the iteration and get out of the for loop\")\n        break     # quit the loop entirely\n    print(x)",
            "execution_count": 66,
            "outputs": [
                {
                    "output_type": "stream",
                    "text": "0\n1\n2\ncontinue to the next iteration\n4\nbreak the iteration and get out of the for loop\n",
                    "name": "stdout"
                }
            ]
        },
        {
            "metadata": {},
            "cell_type": "markdown",
            "source": "## Assert"
        },
        {
            "metadata": {},
            "cell_type": "code",
            "source": "#x = None\n#print(assert x == None) # \"this is the not the Pythonic way to check for None\"\n#print(assert x is None) # \"this is the Pythonic way to check for None\"",
            "execution_count": 69,
            "outputs": []
        },
        {
            "metadata": {},
            "cell_type": "code",
            "source": "s = \"itamar antonio tafarello\"\ns=\"\"\nif s:\n    first_char = s[0]\nelse:\n    first_char = \".\"",
            "execution_count": 81,
            "outputs": []
        },
        {
            "metadata": {},
            "cell_type": "code",
            "source": "print(first_char)",
            "execution_count": 82,
            "outputs": [
                {
                    "output_type": "stream",
                    "text": ".\n",
                    "name": "stdout"
                }
            ]
        },
        {
            "metadata": {
                "tags": [
                    "inline_condition"
                ]
            },
            "cell_type": "code",
            "source": "first_char = s and s[0]",
            "execution_count": 83,
            "outputs": []
        },
        {
            "metadata": {},
            "cell_type": "code",
            "source": "print(first_char)",
            "execution_count": 84,
            "outputs": [
                {
                    "output_type": "stream",
                    "text": "\n",
                    "name": "stdout"
                }
            ]
        },
        {
            "metadata": {},
            "cell_type": "markdown",
            "source": "### Make a variable safe"
        },
        {
            "metadata": {
                "tags": [
                    "inline_condition"
                ]
            },
            "cell_type": "code",
            "source": "x=\"\"\nsafe_x = x or 0",
            "execution_count": 97,
            "outputs": []
        },
        {
            "metadata": {},
            "cell_type": "code",
            "source": "print(safe_x)",
            "execution_count": 98,
            "outputs": [
                {
                    "output_type": "stream",
                    "text": "0\n",
                    "name": "stdout"
                }
            ]
        },
        {
            "metadata": {},
            "cell_type": "code",
            "source": "",
            "execution_count": null,
            "outputs": []
        },
        {
            "metadata": {
                "tags": [
                    "inline_if"
                ]
            },
            "cell_type": "code",
            "source": "safe_x = x if x is not None else 0",
            "execution_count": 99,
            "outputs": []
        },
        {
            "metadata": {},
            "cell_type": "code",
            "source": "print(safe_x)",
            "execution_count": 100,
            "outputs": [
                {
                    "output_type": "stream",
                    "text": "\n",
                    "name": "stdout"
                }
            ]
        },
        {
            "metadata": {},
            "cell_type": "markdown",
            "source": "### Are all elements in conditions to be valid?"
        },
        {
            "metadata": {},
            "cell_type": "code",
            "source": "all([True, 1, {3}])   # True, all are truthy\n",
            "execution_count": 102,
            "outputs": [
                {
                    "output_type": "execute_result",
                    "execution_count": 102,
                    "data": {
                        "text/plain": "True"
                    },
                    "metadata": {}
                }
            ]
        },
        {
            "metadata": {},
            "cell_type": "markdown",
            "source": "## One of the element is empty "
        },
        {
            "metadata": {},
            "cell_type": "code",
            "source": "all([True, 1, {}])    # False, {} is falsy\n",
            "execution_count": 112,
            "outputs": [
                {
                    "output_type": "execute_result",
                    "execution_count": 112,
                    "data": {
                        "text/plain": "False"
                    },
                    "metadata": {}
                }
            ]
        },
        {
            "metadata": {},
            "cell_type": "code",
            "source": "any([True, 1, {}])    # True, True is truthy\n",
            "execution_count": 114,
            "outputs": [
                {
                    "output_type": "execute_result",
                    "execution_count": 114,
                    "data": {
                        "text/plain": "True"
                    },
                    "metadata": {}
                }
            ]
        },
        {
            "metadata": {},
            "cell_type": "code",
            "source": "all([])               # True, no falsy elements in the list\n",
            "execution_count": 105,
            "outputs": [
                {
                    "output_type": "execute_result",
                    "execution_count": 105,
                    "data": {
                        "text/plain": "True"
                    },
                    "metadata": {}
                }
            ]
        },
        {
            "metadata": {},
            "cell_type": "code",
            "source": "any([])               # False, no truthy elements in the list",
            "execution_count": 106,
            "outputs": [
                {
                    "output_type": "execute_result",
                    "execution_count": 106,
                    "data": {
                        "text/plain": "False"
                    },
                    "metadata": {}
                }
            ]
        },
        {
            "metadata": {},
            "cell_type": "markdown",
            "source": "### Sorting elements"
        },
        {
            "metadata": {},
            "cell_type": "code",
            "source": "x = [4, 1, 2, 3]\nprint(x)",
            "execution_count": 120,
            "outputs": [
                {
                    "output_type": "stream",
                    "text": "[4, 1, 2, 3]\n",
                    "name": "stdout"
                }
            ]
        },
        {
            "metadata": {
                "tags": [
                    "sorting"
                ]
            },
            "cell_type": "code",
            "source": "y = sorted(x)     # y is [1, 2, 3, 4], x is unchanged\nprint(f\"x={x}\")\nprint(f\"y={y}\")",
            "execution_count": 121,
            "outputs": [
                {
                    "output_type": "stream",
                    "text": "x=[4, 1, 2, 3]\ny=[1, 2, 3, 4]\n",
                    "name": "stdout"
                }
            ]
        },
        {
            "metadata": {
                "tags": [
                    "sorting"
                ]
            },
            "cell_type": "code",
            "source": "x.sort()          # now x is [1, 2, 3, 4]\nprint(x)",
            "execution_count": 122,
            "outputs": [
                {
                    "output_type": "stream",
                    "text": "[1, 2, 3, 4]\n",
                    "name": "stdout"
                }
            ]
        },
        {
            "metadata": {},
            "cell_type": "markdown",
            "source": "## Sorted the list using o absolute value of each element, in descending order"
        },
        {
            "metadata": {
                "tags": [
                    "sorting"
                ]
            },
            "cell_type": "code",
            "source": "# sort the list by absolute value from largest to smallest\nx = sorted([-4, 1, -2, 3], key=abs, reverse=True)  # is [-4, 3, -2, 1]\n\nprint(x)",
            "execution_count": 125,
            "outputs": [
                {
                    "output_type": "stream",
                    "text": "[-4, 3, -2, 1]\n",
                    "name": "stdout"
                }
            ]
        },
        {
            "metadata": {},
            "cell_type": "markdown",
            "source": "## Sorting the list using the first element of each tuple, letter_and_count[0] (x, y), in this case using x"
        },
        {
            "metadata": {
                "tags": [
                    "lambda",
                    "sorting"
                ]
            },
            "cell_type": "code",
            "source": "# sort the words and counts from highest count to lowest\nwc = sorted(letter_counts.items(),\n            key=lambda letter_and_count: letter_and_count[0],\n            reverse=True)\nprint(wc)",
            "execution_count": 128,
            "outputs": [
                {
                    "output_type": "stream",
                    "text": "[('z', 2), ('y', 6), ('w', 1), ('u', 3), ('t', 17), ('s', 13), ('r', 14), ('q', 1), ('p', 3), ('o', 18), ('n', 10), ('m', 6), ('l', 9), ('k', 1), ('i', 16), ('h', 8), ('g', 5), ('f', 7), ('e', 27), ('d', 6), ('c', 7), ('b', 1), ('a', 19), ('I', 1), ('A', 1), ('-', 2), ('\"', 2), (' ', 37), ('\\n', 1)]\n",
                    "name": "stdout"
                }
            ]
        },
        {
            "metadata": {},
            "cell_type": "markdown",
            "source": "## Sorting the list using the first element of each tuple, letter_and_count[1] (x, y), in this case using y"
        },
        {
            "metadata": {},
            "cell_type": "code",
            "source": "# sort the words and counts from highest count to lowest\nwc = sorted(letter_counts.items(),\n            key=lambda letter_and_count: letter_and_count[1],\n            reverse=True)\nprint(wc)",
            "execution_count": 129,
            "outputs": [
                {
                    "output_type": "stream",
                    "text": "[(' ', 37), ('e', 27), ('a', 19), ('o', 18), ('t', 17), ('i', 16), ('r', 14), ('s', 13), ('n', 10), ('l', 9), ('h', 8), ('c', 7), ('f', 7), ('d', 6), ('y', 6), ('m', 6), ('g', 5), ('p', 3), ('u', 3), ('z', 2), ('-', 2), ('\"', 2), ('I', 1), ('b', 1), ('k', 1), ('\\n', 1), ('A', 1), ('w', 1), ('q', 1)]\n",
                    "name": "stdout"
                }
            ]
        },
        {
            "metadata": {},
            "cell_type": "markdown",
            "source": "## List Comprehensions"
        },
        {
            "metadata": {
                "tags": [
                    "inline_for"
                ]
            },
            "cell_type": "code",
            "source": "even_numbers = [x for x in range(5) if x % 2 == 0]  # [0, 2, 4]\nprint(even_numbers)",
            "execution_count": 130,
            "outputs": [
                {
                    "output_type": "stream",
                    "text": "[0, 2, 4]\n",
                    "name": "stdout"
                }
            ]
        },
        {
            "metadata": {
                "tags": [
                    "inline_for"
                ]
            },
            "cell_type": "code",
            "source": "squares      = [x * x for x in range(5)]            # [0, 1, 4, 9, 16]\nprint(squares)",
            "execution_count": 132,
            "outputs": [
                {
                    "output_type": "stream",
                    "text": "[0, 1, 4, 9, 16]\n",
                    "name": "stdout"
                }
            ]
        },
        {
            "metadata": {
                "tags": [
                    "inline_for"
                ]
            },
            "cell_type": "code",
            "source": "even_squares = [x * x for x in even_numbers]        # [0, 4, 16]\nprint(even_squares)",
            "execution_count": 133,
            "outputs": [
                {
                    "output_type": "stream",
                    "text": "[0, 4, 16]\n",
                    "name": "stdout"
                }
            ]
        },
        {
            "metadata": {},
            "cell_type": "markdown",
            "source": "## Loop trough a range of 5 elements and create a new list"
        },
        {
            "metadata": {},
            "cell_type": "code",
            "source": "square_dict = {x: x * x for x in range(5)}  # {0: 0, 1: 1, 2: 4, 3: 9, 4: 16}\nprint(square_dict)",
            "execution_count": 134,
            "outputs": [
                {
                    "output_type": "stream",
                    "text": "{0: 0, 1: 1, 2: 4, 3: 9, 4: 16}\n",
                    "name": "stdout"
                }
            ]
        },
        {
            "metadata": {},
            "cell_type": "code",
            "source": "square_set  = {x * x for x in [1, -1]}      # {1}\nprint(square_set)",
            "execution_count": 135,
            "outputs": [
                {
                    "output_type": "stream",
                    "text": "{1}\n",
                    "name": "stdout"
                }
            ]
        },
        {
            "metadata": {},
            "cell_type": "markdown",
            "source": "### Generate a list using a inline for"
        },
        {
            "metadata": {},
            "cell_type": "code",
            "source": "pairs = [(x, y)\n         for x in range(5)\n         for y in range(5)]   # 100 pairs (0,0) (0,1) ... (9,8), (9,9)",
            "execution_count": 147,
            "outputs": []
        },
        {
            "metadata": {},
            "cell_type": "code",
            "source": "print(\"Generated List\\n\")\nprint(pairs)\nprint(\"\\n\")\nprint(f\"Total number of elements in the list {len(pairs)}\")",
            "execution_count": 148,
            "outputs": [
                {
                    "output_type": "stream",
                    "text": "Generated List\n\n[(0, 0), (0, 1), (0, 2), (0, 3), (0, 4), (1, 0), (1, 1), (1, 2), (1, 3), (1, 4), (2, 0), (2, 1), (2, 2), (2, 3), (2, 4), (3, 0), (3, 1), (3, 2), (3, 3), (3, 4), (4, 0), (4, 1), (4, 2), (4, 3), (4, 4)]\n\n\nTotal number of elements in the list 25\n",
                    "name": "stdout"
                }
            ]
        }
    ],
    "metadata": {
        "kernelspec": {
            "name": "python3",
            "display_name": "Python 3.6",
            "language": "python"
        },
        "language_info": {
            "name": "python",
            "version": "3.6.9",
            "mimetype": "text/x-python",
            "codemirror_mode": {
                "name": "ipython",
                "version": 3
            },
            "pygments_lexer": "ipython3",
            "nbconvert_exporter": "python",
            "file_extension": ".py"
        }
    },
    "nbformat": 4,
    "nbformat_minor": 1
}